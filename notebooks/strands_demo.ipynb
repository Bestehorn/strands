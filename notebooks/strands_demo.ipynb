{
 "cells": [
  {
   "cell_type": "markdown",
   "metadata": {},
   "source": [
    "# Strands Agents SDK Demo by Markus Bestehorn (bestem@amazon.com)\n",
    "\n",
    "Welcome to this simple demo of the **Strands Agents SDK** - a simple-to-use, code-first framework for building agents.\n",
    "\n",
    "This notebook will walk you through the basics of creating and using agents with Strands. I recommend running this notebook in a [virtual Python environment](https://docs.python.org/3/library/venv.html).\n",
    "\n",
    "## What is Strands Agents?\n",
    "\n",
    "Strands Agents is a framework that makes it easy to build AI agents in Python. It provides a simple API for creating agents that can understand and respond to questions, perform tasks, and interact with various tools and services.\n",
    "\n",
    "## Prerequisites\n",
    "\n",
    "Before we start, make sure you have the Strands Agents SDK installed."
   ]
  },
  {
   "cell_type": "code",
   "execution_count": null,
   "metadata": {},
   "outputs": [],
   "source": [
    "# Install Strands Agents SDK\n",
    "# Uncomment the line below if you haven't installed it yet\n",
    "!pip install strands-agents strands-agents-tools strands-agents-builder -q"
   ]
  },
  {
   "cell_type": "markdown",
   "metadata": {},
   "source": [
    "## 0. Authentication for AWS\n",
    "There are different options which models to use and for authentication. Details are [here](https://strandsagents.com/0.1.x/user-guide/concepts/model-providers/amazon-bedrock/)."
   ]
  },
  {
   "cell_type": "code",
   "execution_count": null,
   "metadata": {},
   "outputs": [],
   "source": [
    "import boto3\n",
    "from strands import Agent\n",
    "from strands.models import BedrockModel\n",
    "\n",
    "session = boto3.Session(\n",
    "    # aws_access_key_id='your_access_key',\n",
    "    # aws_secret_access_key='your_secret_key',\n",
    "    # aws_session_token='your_session_token',  # If using temporary credentials\n",
    "    # region_name='us-west-2',\n",
    "    profile_name='default'  # Optional: Use a specific profile\n",
    ")\n",
    "\n",
    "# Create a Bedrock model with the custom session\n",
    "bedrock_model = BedrockModel(\n",
    "    model_id=\"us.anthropic.claude-3-7-sonnet-20250219-v1:0\",\n",
    "    boto_session=session\n",
    ")"
   ]
  },
  {
   "cell_type": "markdown",
   "metadata": {},
   "source": [
    "## 1. Creating Your First Agent\n",
    "\n",
    "Let's start by creating a simple agent with default settings."
   ]
  },
  {
   "cell_type": "code",
   "execution_count": null,
   "metadata": {},
   "outputs": [],
   "source": [
    "# Create an agent with settings using the above Session and Bedrock Model Information\n",
    "agent = Agent(model=bedrock_model)\n",
    "\n",
    "print(\"Agent created successfully!\")\n",
    "print(f\"Agent type: {type(agent).__name__}\")"
   ]
  },
  {
   "cell_type": "markdown",
   "metadata": {},
   "source": [
    "## 2. Asking Your Agent a Question\n",
    "\n",
    "Now let's ask our agent a simple question to see how it responds."
   ]
  },
  {
   "cell_type": "code",
   "execution_count": null,
   "metadata": {},
   "outputs": [],
   "source": [
    "# Ask the agent a question\n",
    "response = agent(\"Tell me about agentic AI\")\n",
    "print(\"Agent's response:\")\n",
    "print(response)"
   ]
  },
  {
   "cell_type": "markdown",
   "metadata": {},
   "source": [
    "## 3. Creating an Agent with Custom Configuration\n",
    "\n",
    "Let's create a more customized agent with specific settings and behavior."
   ]
  },
  {
   "cell_type": "code",
   "execution_count": null,
   "metadata": {},
   "outputs": [],
   "source": [
    "# Create an agent with custom configuration\n",
    "custom_agent = Agent(\n",
    "    system_prompt=\"You are a senior Python developer.\",\n",
    "    model=bedrock_model,\n",
    ")"
   ]
  },
  {
   "cell_type": "markdown",
   "metadata": {},
   "source": [
    "## 4. Using the Custom Agent\n",
    "\n",
    "Let's test our custom coding assistant agent."
   ]
  },
  {
   "cell_type": "code",
   "execution_count": null,
   "metadata": {},
   "outputs": [],
   "source": [
    "# Ask the custom agent a coding question\n",
    "coding_question = \"How do I create a simple list comprehension in Python?\"\n",
    "coding_response = custom_agent(coding_question)\n",
    "\n",
    "print(f\"Question: {coding_question}\")\n",
    "print(f\"\\nCodeHelper's response:\")\n",
    "print(coding_response)"
   ]
  },
  {
   "cell_type": "markdown",
   "metadata": {},
   "source": [
    "## 5. Conversation History\n",
    "\n",
    "Strands agents can maintain conversation history, allowing for contextual conversations."
   ]
  },
  {
   "cell_type": "code",
   "execution_count": null,
   "metadata": {},
   "outputs": [],
   "source": [
    "# Start a conversation with context\n",
    "print(\"Starting a contextual conversation...\")\n",
    "\n",
    "# First question\n",
    "response1 = custom_agent(\"What is machine learning?\")\n",
    "print(\"Question 1: What is machine learning?\")\n",
    "print(f\"Response 1: {response1}\")\n",
    "\n",
    "print(\"\\n\" + \"=\"*50 + \"\\n\")\n",
    "\n",
    "# Follow-up question (should reference previous context)\n",
    "response2 = custom_agent(\"Can you give me a simple Python example of it?\")\n",
    "print(\"Question 2: Can you give me a simple Python example of it?\")\n",
    "print(f\"Response 2: {response2}\")"
   ]
  },
  {
   "cell_type": "markdown",
   "metadata": {},
   "source": [
    "## 6. Agent with Tools (Advanced)\n",
    "\n",
    "Strands agents can be equipped with tools to perform specific tasks. Let's create an agent with some basic tools."
   ]
  },
  {
   "cell_type": "code",
   "execution_count": null,
   "metadata": {},
   "outputs": [],
   "source": [
    "from strands import Agent, tool\n",
    "import datetime\n",
    "import random\n",
    "\n",
    "# Define some simple tools\n",
    "@tool\n",
    "def get_current_time():\n",
    "    \"\"\"Get the current date and time.\"\"\"\n",
    "    return datetime.datetime.now().strftime(\"%Y-%m-%d %H:%M:%S\")\n",
    "\n",
    "@tool\n",
    "def generate_random_number(min_val:int=1, max_val:int=100):\n",
    "    \"\"\"Generate a random number between min_val and max_val. min_val defaults to 1, max_val defaults to 100\"\"\"\n",
    "    return random.randint(min_val, max_val)\n",
    "\n",
    "@tool\n",
    "def calculate_factorial(n:int):\n",
    "    \"\"\"Calculate the factorial of a number.\"\"\"\n",
    "    if n < 0:\n",
    "        return \"Factorial is not defined for negative numbers\"\n",
    "    elif n == 0 or n == 1:\n",
    "        return 1\n",
    "    else:\n",
    "        result = 1\n",
    "        for i in range(2, n + 1):\n",
    "            result *= i\n",
    "        return result\n",
    "\n",
    "# Create an agent with tools\n",
    "tool_agent = Agent(\n",
    "    system_prompt=\"You are a tool equipped agent. Use them where appropriate.\",\n",
    "    tools=[\n",
    "        get_current_time,\n",
    "        generate_random_number,\n",
    "        calculate_factorial\n",
    "    ],\n",
    "    model=bedrock_model,\n",
    ")\n",
    "\n",
    "print(\"Tool-equipped agent created!\")\n"
   ]
  },
  {
   "cell_type": "markdown",
   "metadata": {},
   "source": [
    "The important details in this piece of code are the following:\n",
    "\n",
    " - the @tool marker/decorator for the function indicates that this is a tool that agents can use. Without this decorator, the tools are not used even if they are passed to the Agent using the \"tools\" parameter.\n",
    " - The type hints are important. By default, agents are passed str variables. This means without the type hint \"n:int\" in the header of the function, agents would pass a value such as \"5\" (str) to the function. This will cause type errors or undesired behavior. Through the type hint, the agent knows that the value needs to be converted to int, e.g., \"5\" => int(\"5\") => 5, before passing a value to this function.\n",
    "\n",
    " While agents sometimes can handle errors that occur when calling functions with wrongly formatted input, this will cause extra cycles for the inference as the agent first tries to use the tool, then waits for a response, discovers an errors, handles the error and then passes the input again to the function. Hence, providing proper type hints is highly recommended for tool definitions.   "
   ]
  },
  {
   "cell_type": "markdown",
   "metadata": {},
   "source": [
    "## 7. Using Agent Tools\n",
    "\n",
    "Now let's ask our tool-equipped agent to perform tasks using its tools."
   ]
  },
  {
   "cell_type": "code",
   "execution_count": null,
   "metadata": {},
   "outputs": [],
   "source": [
    "# Ask the agent to use its tools\n",
    "questions_and_responses = [\n",
    "    \"What time is it right now?\",\n",
    "    \"Can you generate a random number for me?\",\n",
    "    \"What's the factorial of 5?\",\n",
    "    \"Generate a random number between 50 and 100\"\n",
    "]\n",
    "\n",
    "for question in questions_and_responses:\n",
    "    response = tool_agent(question)\n",
    "    print(f\"Q: {question}\")\n",
    "    print(f\"A: {response}\")\n",
    "    print(\"-\" * 40)"
   ]
  },
  {
   "cell_type": "markdown",
   "metadata": {},
   "source": [
    "There are several noteworthy details with the output and the corresponding code:\n",
    "\n",
    " - The 2nd question asks for a random number without specification of a range. The agent will use the defined defaults from the function in the code and generate a number between 1 and 100.\n",
    " - The 3rd question asks for the factorial. Normally, the function would be passed a str and not an int as required by the function. Through the use of Python type hints, one can provide the agent with information which format the input should have. In this case, the str is converted into int before it is passed to the factorial function.\n",
    " - The 4th question asks for random numbers with a range. Similar to the above, the type hints allow the agent to infer the right format for the input and use the tool correctly.\n",
    "\n",
    "Without type hints, the agent would face difficulties to pass the input properly to the function. This can result in error messages such as:\n",
    "~~~\n",
    "I apologize for the error. It seems the function expects string values for the parameters...\n",
    "~~~\n",
    "In some cases, this can be resolved automatically, but to increase chances and speed of responses, using type hints is recommended."
   ]
  },
  {
   "cell_type": "markdown",
   "metadata": {},
   "source": [
    "## 8. Error Handling and Safety\n",
    "\n",
    "Strands agents include built-in safety features and error handling."
   ]
  },
  {
   "cell_type": "code",
   "execution_count": null,
   "metadata": {},
   "outputs": [],
   "source": [
    "# Test error handling\n",
    "try:\n",
    "    # Try asking for something potentially problematic\n",
    "    response = tool_agent(\"Calculate the factorial of -5\")\n",
    "    print(\"Response:\", response)\n",
    "except Exception as e:\n",
    "    print(f\"Error handled gracefully: {e}\")\n",
    "\n",
    "# Test with empty input\n",
    "try:\n",
    "    response = tool_agent(\"\")\n",
    "    print(\"Empty input response:\", response)\n",
    "except Exception as e:\n",
    "    print(f\"Empty input handled: {e}\")"
   ]
  },
  {
   "cell_type": "markdown",
   "metadata": {},
   "source": [
    "## 9. Agent Performance Monitoring\n",
    "\n",
    "Let's look at some basic monitoring and evaluation of our agent's performance."
   ]
  },
  {
   "cell_type": "code",
   "execution_count": null,
   "metadata": {},
   "outputs": [],
   "source": [
    "import time\n",
    "\n",
    "# Monitor response time\n",
    "start_time = time.time()\n",
    "response = agent(\"Explain what artificial intelligence is in simple terms\")\n",
    "end_time = time.time()\n",
    "\n",
    "response_time = end_time - start_time\n",
    "word_count = len(response.message[\"content\"][0][\"text\"])\n",
    "\n",
    "print(f\"Response time: {response_time:.2f} seconds\")\n",
    "print(f\"Response word count: {word_count} words\")\n",
    "print(f\"Words per second: {word_count/response_time:.2f}\")\n",
    "# print(\"\\nResponse:\")\n",
    "# print(response)"
   ]
  },
  {
   "cell_type": "markdown",
   "metadata": {},
   "source": [
    "## Conclusion\n",
    "\n",
    "This notebook has demonstrated the key features of the Strands Agents SDK:\n",
    "\n",
    "1. **Simple Agent Creation**: Easy to create agents with minimal code\n",
    "2. **Customization**: Configure agents with specific parameters and behavior\n",
    "3. **Tool Integration**: Equip agents with custom tools and functions\n",
    "4. **Conversation Context**: Maintain conversation history for contextual interactions\n",
    "5. **Error Handling**: Built-in safety and error handling mechanisms\n",
    "6. **Performance Monitoring**: Track and evaluate agent performance\n",
    "7. **Production Readiness**: Configuration options for deployment\n",
    "\n",
    "### Next Steps\n",
    "\n",
    "To learn more about Strands Agents:\n",
    "- Visit the [official documentation](https://strandsagents.com/0.1.x/)\n",
    "- Explore the User Guide sections:\n",
    "  - Welcome\n",
    "  - Quickstart\n",
    "  - Concepts\n",
    "  - Safety & Security\n",
    "  - Observability & Evaluation\n",
    "  - Deploy\n",
    "\n",
    "Happy building with Strands Agents! 🚀"
   ]
  }
 ],
 "metadata": {
  "kernelspec": {
   "display_name": "venv",
   "language": "python",
   "name": "python3"
  },
  "language_info": {
   "codemirror_mode": {
    "name": "ipython",
    "version": 3
   },
   "file_extension": ".py",
   "mimetype": "text/x-python",
   "name": "python",
   "nbconvert_exporter": "python",
   "pygments_lexer": "ipython3",
   "version": "3.13.3"
  }
 },
 "nbformat": 4,
 "nbformat_minor": 4
}
