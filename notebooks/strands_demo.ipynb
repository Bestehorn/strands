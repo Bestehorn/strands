{
 "cells": [
  {
   "cell_type": "markdown",
   "metadata": {},
   "source": [
    "# Strands Agents SDK Demo\n",
    "\n",
    "Welcome to this simple demo of the **Strands Agents SDK** - a simple-to-use, code-first framework for building agents.\n",
    "\n",
    "This notebook will walk you through the basics of creating and using agents with Strands.\n",
    "\n",
    "## What is Strands Agents?\n",
    "\n",
    "Strands Agents is a framework that makes it easy to build AI agents in Python. It provides a simple API for creating agents that can understand and respond to questions, perform tasks, and interact with various tools and services.\n",
    "\n",
    "## Prerequisites\n",
    "\n",
    "Before we start, make sure you have the Strands Agents SDK installed."
   ]
  },
  {
   "cell_type": "code",
   "execution_count": null,
   "metadata": {},
   "outputs": [],
   "source": [
    "# Install Strands Agents SDK\n",
    "# Uncomment the line below if you haven't installed it yet\n",
    "# !pip install strands-agents"
   ]
  },
  {
   "cell_type": "markdown",
   "metadata": {},
   "source": [
    "## 1. Creating Your First Agent\n",
    "\n",
    "Let's start by creating a simple agent with default settings."
   ]
  },
  {
   "cell_type": "code",
   "execution_count": null,
   "metadata": {},
   "outputs": [],
   "source": [
    "from strands import Agent\n",
    "\n",
    "# Create an agent with default settings\n",
    "agent = Agent()\n",
    "\n",
    "print(\"Agent created successfully!\")\n",
    "print(f\"Agent type: {type(agent).__name__}\")"
   ]
  },
  {
   "cell_type": "markdown",
   "metadata": {},
   "source": [
    "## 2. Asking Your Agent a Question\n",
    "\n",
    "Now let's ask our agent a simple question to see how it responds."
   ]
  },
  {
   "cell_type": "code",
   "execution_count": null,
   "metadata": {},
   "outputs": [],
   "source": [
    "# Ask the agent a question\n",
    "response = agent(\"Tell me about agentic AI\")\n",
    "print(\"Agent's response:\")\n",
    "print(response)"
   ]
  },
  {
   "cell_type": "markdown",
   "metadata": {},
   "source": [
    "## 3. Creating an Agent with Custom Configuration\n",
    "\n",
    "Let's create a more customized agent with specific settings and behavior."
   ]
  },
  {
   "cell_type": "code",
   "execution_count": null,
   "metadata": {},
   "outputs": [],
   "source": [
    "# Create an agent with custom configuration\n",
    "custom_agent = Agent(\n",
    "    name=\"CodeHelper\",\n",
    "    description=\"A helpful coding assistant that specializes in Python programming\",\n",
    "    temperature=0.7,  # Controls randomness in responses\n",
    "    max_tokens=500    # Limits response length\n",
    ")\n",
    "\n",
    "print(f\"Custom agent '{custom_agent.name}' created!\")\n",
    "print(f\"Description: {custom_agent.description}\")"
   ]
  },
  {
   "cell_type": "markdown",
   "metadata": {},
   "source": [
    "## 4. Using the Custom Agent\n",
    "\n",
    "Let's test our custom coding assistant agent."
   ]
  },
  {
   "cell_type": "code",
   "execution_count": null,
   "metadata": {},
   "outputs": [],
   "source": [
    "# Ask the custom agent a coding question\n",
    "coding_question = \"How do I create a simple list comprehension in Python?\"\n",
    "coding_response = custom_agent(coding_question)\n",
    "\n",
    "print(f\"Question: {coding_question}\")\n",
    "print(f\"\\nCodeHelper's response:\")\n",
    "print(coding_response)"
   ]
  },
  {
   "cell_type": "markdown",
   "metadata": {},
   "source": [
    "## 5. Conversation History\n",
    "\n",
    "Strands agents can maintain conversation history, allowing for contextual conversations."
   ]
  },
  {
   "cell_type": "code",
   "execution_count": null,
   "metadata": {},
   "outputs": [],
   "source": [
    "# Start a conversation with context\n",
    "print(\"Starting a contextual conversation...\")\n",
    "\n",
    "# First question\n",
    "response1 = custom_agent(\"What is machine learning?\")\n",
    "print(\"Question 1: What is machine learning?\")\n",
    "print(f\"Response 1: {response1}\")\n",
    "\n",
    "print(\"\\n\" + \"=\"*50 + \"\\n\")\n",
    "\n",
    "# Follow-up question (should reference previous context)\n",
    "response2 = custom_agent(\"Can you give me a simple Python example of it?\")\n",
    "print(\"Question 2: Can you give me a simple Python example of it?\")\n",
    "print(f\"Response 2: {response2}\")"
   ]
  },
  {
   "cell_type": "markdown",
   "metadata": {},
   "source": [
    "## 6. Agent with Tools (Advanced)\n",
    "\n",
    "Strands agents can be equipped with tools to perform specific tasks. Let's create an agent with some basic tools."
   ]
  },
  {
   "cell_type": "code",
   "execution_count": null,
   "metadata": {},
   "outputs": [],
   "source": [
    "import datetime\n",
    "import random\n",
    "\n",
    "# Define some simple tools\n",
    "def get_current_time():\n",
    "    \"\"\"Get the current date and time.\"\"\"\n",
    "    return datetime.datetime.now().strftime(\"%Y-%m-%d %H:%M:%S\")\n",
    "\n",
    "def generate_random_number(min_val=1, max_val=100):\n",
    "    \"\"\"Generate a random number between min_val and max_val.\"\"\"\n",
    "    return random.randint(min_val, max_val)\n",
    "\n",
    "def calculate_factorial(n):\n",
    "    \"\"\"Calculate the factorial of a number.\"\"\"\n",
    "    if n < 0:\n",
    "        return \"Factorial is not defined for negative numbers\"\n",
    "    elif n == 0 or n == 1:\n",
    "        return 1\n",
    "    else:\n",
    "        result = 1\n",
    "        for i in range(2, n + 1):\n",
    "            result *= i\n",
    "        return result\n",
    "\n",
    "# Create an agent with tools\n",
    "tool_agent = Agent(\n",
    "    name=\"ToolAgent\",\n",
    "    description=\"An agent equipped with useful tools\",\n",
    "    tools=[\n",
    "        get_current_time,\n",
    "        generate_random_number,\n",
    "        calculate_factorial\n",
    "    ]\n",
    ")\n",
    "\n",
    "print(\"Tool-equipped agent created!\")\n",
    "print(f\"Available tools: {[tool.__name__ for tool in tool_agent.tools]}\")"
   ]
  },
  {
   "cell_type": "markdown",
   "metadata": {},
   "source": [
    "## 7. Using Agent Tools\n",
    "\n",
    "Now let's ask our tool-equipped agent to perform tasks using its tools."
   ]
  },
  {
   "cell_type": "code",
   "execution_count": null,
   "metadata": {},
   "outputs": [],
   "source": [
    "# Ask the agent to use its tools\n",
    "questions_and_responses = [\n",
    "    \"What time is it right now?\",\n",
    "    \"Can you generate a random number for me?\",\n",
    "    \"What's the factorial of 5?\",\n",
    "    \"Generate a random number between 50 and 100\"\n",
    "]\n",
    "\n",
    "for question in questions_and_responses:\n",
    "    response = tool_agent(question)\n",
    "    print(f\"Q: {question}\")\n",
    "    print(f\"A: {response}\")\n",
    "    print(\"-\" * 40)"
   ]
  },
  {
   "cell_type": "markdown",
   "metadata": {},
   "source": [
    "## 8. Error Handling and Safety\n",
    "\n",
    "Strands agents include built-in safety features and error handling."
   ]
  },
  {
   "cell_type": "code",
   "execution_count": null,
   "metadata": {},
   "outputs": [],
   "source": [
    "# Test error handling\n",
    "try:\n",
    "    # Try asking for something potentially problematic\n",
    "    response = agent(\"Calculate the factorial of -5\")\n",
    "    print(\"Response:\", response)\n",
    "except Exception as e:\n",
    "    print(f\"Error handled gracefully: {e}\")\n",
    "\n",
    "# Test with empty input\n",
    "try:\n",
    "    response = agent(\"\")\n",
    "    print(\"Empty input response:\", response)\n",
    "except Exception as e:\n",
    "    print(f\"Empty input handled: {e}\")"
   ]
  },
  {
   "cell_type": "markdown",
   "metadata": {},
   "source": [
    "## 9. Agent Performance Monitoring\n",
    "\n",
    "Let's look at some basic monitoring and evaluation of our agent's performance."
   ]
  },
  {
   "cell_type": "code",
   "execution_count": null,
   "metadata": {},
   "outputs": [],
   "source": [
    "import time\n",
    "\n",
    "# Monitor response time\n",
    "start_time = time.time()\n",
    "response = agent(\"Explain what artificial intelligence is in simple terms\")\n",
    "end_time = time.time()\n",
    "\n",
    "response_time = end_time - start_time\n",
    "word_count = len(response.split())\n",
    "\n",
    "print(f\"Response time: {response_time:.2f} seconds\")\n",
    "print(f\"Response word count: {word_count} words\")\n",
    "print(f\"Words per second: {word_count/response_time:.2f}\")\n",
    "print(\"\\nResponse:\")\n",
    "print(response)"
   ]
  },
  {
   "cell_type": "markdown",
   "metadata": {},
   "source": [
    "## 10. Deployment Considerations\n",
    "\n",
    "When deploying Strands agents, consider the following best practices:"
   ]
  },
  {
   "cell_type": "code",
   "execution_count": null,
   "metadata": {},
   "outputs": [],
   "source": [
    "# Example of agent configuration for production\n",
    "production_agent = Agent(\n",
    "    name=\"ProductionAgent\",\n",
    "    description=\"A production-ready agent with optimized settings\",\n",
    "    temperature=0.3,  # Lower temperature for more consistent responses\n",
    "    max_tokens=300,   # Reasonable token limit\n",
    "    timeout=30,       # 30-second timeout\n",
    "    rate_limit=100,   # Maximum 100 requests per minute\n",
    "    logging=True,     # Enable logging for monitoring\n",
    "    safety_checks=True # Enable additional safety checks\n",
    ")\n",
    "\n",
    "print(\"Production agent configuration:\")\n",
    "print(f\"Name: {production_agent.name}\")\n",
    "print(f\"Temperature: {production_agent.temperature}\")\n",
    "print(f\"Max tokens: {production_agent.max_tokens}\")\n",
    "print(f\"Timeout: {production_agent.timeout}s\")\n",
    "print(f\"Rate limit: {production_agent.rate_limit} req/min\")"
   ]
  },
  {
   "cell_type": "markdown",
   "metadata": {},
   "source": [
    "## Conclusion\n",
    "\n",
    "This notebook has demonstrated the key features of the Strands Agents SDK:\n",
    "\n",
    "1. **Simple Agent Creation**: Easy to create agents with minimal code\n",
    "2. **Customization**: Configure agents with specific parameters and behavior\n",
    "3. **Tool Integration**: Equip agents with custom tools and functions\n",
    "4. **Conversation Context**: Maintain conversation history for contextual interactions\n",
    "5. **Error Handling**: Built-in safety and error handling mechanisms\n",
    "6. **Performance Monitoring**: Track and evaluate agent performance\n",
    "7. **Production Readiness**: Configuration options for deployment\n",
    "\n",
    "### Next Steps\n",
    "\n",
    "To learn more about Strands Agents:\n",
    "- Visit the [official documentation](https://strandsagents.com/0.1.x/)\n",
    "- Explore the User Guide sections:\n",
    "  - Welcome\n",
    "  - Quickstart\n",
    "  - Concepts\n",
    "  - Safety & Security\n",
    "  - Observability & Evaluation\n",
    "  - Deploy\n",
    "\n",
    "Happy building with Strands Agents! 🚀"
   ]
  }
 ],
 "metadata": {
  "kernelspec": {
   "display_name": "Python 3",
   "language": "python",
   "name": "python3"
  },
  "language_info": {
   "codemirror_mode": {
    "name": "ipython",
    "version": 3
   },
   "file_extension": ".py",
   "mimetype": "text/x-python",
   "name": "python",
   "nbconvert_exporter": "python",
   "pygments_lexer": "ipython3",
   "version": "3.8.0"
  }
 },
 "nbformat": 4,
 "nbformat_minor": 4
}
