{
 "cells": [
  {
   "cell_type": "markdown",
   "metadata": {},
   "source": [
    "# Strands Agents SDK Demo by Markus Bestehorn (bestem@amazon.com)\n",
    "\n",
    "**A Comprehensive Guide to Building AI Agents with the Strands Framework**\n",
    "\n",
    "---\n",
    "\n",
    "Welcome to this comprehensive demo of the **Strands Agents SDK** - a simple-to-use, code-first framework for building intelligent AI agents. This notebook provides a hands-on introduction to creating and deploying agents that can understand natural language, perform complex tasks, and integrate with external tools and services.\n",
    "\n",
    "### 📋 What You'll Learn\n",
    "\n",
    "By the end of this tutorial, you will understand how to:\n",
    "- Create basic and advanced AI agents\n",
    "- Configure agents with custom behaviors and personalities\n",
    "- Implement tool integration for enhanced functionality\n",
    "- Handle conversation context and memory\n",
    "- Monitor agent performance and handle errors\n",
    "- Deploy agents for production use\n",
    "\n",
    "### 🎯 Recommended Environment\n",
    "\n",
    "For the best experience, run this notebook in a [virtual Python environment](https://docs.python.org/3/library/venv.html) to avoid dependency conflicts.\n",
    "\n",
    "## What is Strands Agents?\n",
    "\n",
    "**Strands Agents** is a powerful yet intuitive framework that simplifies the creation of AI agents in Python. It provides:\n",
    "\n",
    "- **🚀 Simple API**: Easy-to-use interfaces for agent creation and management\n",
    "- **🔧 Tool Integration**: Seamless integration with external tools and services\n",
    "- **💬 Conversation Management**: Built-in context and memory handling\n",
    "- **🛡️ Safety Features**: Robust error handling and safety mechanisms\n",
    "- **📊 Observability**: Performance monitoring and evaluation capabilities\n",
    "\n",
    "## Prerequisites\n",
    "\n",
    "Before we start, ensure you have the following requirements met:\n",
    "\n",
    "### Required Software\n",
    "- **Python 3.8+** installed on your system\n",
    "- **AWS credentials** configured for Bedrock access\n",
    "- **Internet connection** for package installation\n",
    "\n",
    "### Required Packages\n",
    "The following packages will be installed automatically in the next cell:"
   ]
  },
  {
   "cell_type": "code",
   "execution_count": null,
   "metadata": {},
   "outputs": [],
   "source": [
    "# Install Strands Agents SDK\n",
    "# Uncomment the line below if you haven't installed it yet\n",
    "!pip install strands-agents strands-agents-tools strands-agents-builder -q"
   ]
  },
  {
   "cell_type": "markdown",
   "metadata": {},
   "source": [
    "## 0. Setting Up AWS Authentication & Model Configuration\n",
    "\n",
    "### Overview\n",
    "Strands Agents SDK supports multiple model providers, with AWS Bedrock being one of the most powerful options. This section will configure your connection to AWS Bedrock to access state-of-the-art language models like Claude.\n",
    "\n",
    "### 🔐 Authentication Options\n",
    "\n",
    "You have several authentication methods available:\n",
    "\n",
    "1. **AWS Profile** (Recommended for development)\n",
    "2. **Environment Variables** \n",
    "3. **Direct Credentials** (Less secure, avoid in production)\n",
    "4. **IAM Roles** (Recommended for production)\n",
    "\n",
    "### 📚 Additional Resources\n",
    "For detailed authentication setup and model provider information, visit: [Amazon Bedrock Model Provider Guide](https://strandsagents.com/0.1.x/user-guide/concepts/model-providers/amazon-bedrock/)\n",
    "\n",
    "### 🛡️ Required AWS Permissions\n",
    "Ensure your AWS credentials have the following permissions:\n",
    "- `bedrock:InvokeModel`\n",
    "- `bedrock:InvokeModelWithResponseStream` (for streaming responses)"
   ]
  },
  {
   "cell_type": "code",
   "execution_count": null,
   "metadata": {},
   "outputs": [],
   "source": [
    "import boto3\n",
    "from strands import Agent\n",
    "from strands.models import BedrockModel\n",
    "\n",
    "session = boto3.Session(\n",
    "    # aws_access_key_id='your_access_key',\n",
    "    # aws_secret_access_key='your_secret_key',\n",
    "    # aws_session_token='your_session_token',  # If using temporary credentials\n",
    "    # region_name='us-west-2',\n",
    "    profile_name='default'  # Optional: Use a specific profile\n",
    ")\n",
    "\n",
    "# Create a Bedrock model with the custom session\n",
    "bedrock_model = BedrockModel(\n",
    "    model_id=\"us.anthropic.claude-3-7-sonnet-20250219-v1:0\",\n",
    "    boto_session=session\n",
    ")"
   ]
  },
  {
   "cell_type": "markdown",
   "metadata": {},
   "source": [
    "## 1. Creating Your First Agent\n",
    "\n",
    "### Overview\n",
    "Now that we have our model configured, let's create our first AI agent. This basic agent will use default settings and demonstrate the fundamental capabilities of the Strands framework.\n",
    "\n",
    "### 🤖 What This Does\n",
    "- Creates an agent instance with minimal configuration\n",
    "- Uses the AWS Bedrock model we configured above\n",
    "- Provides a foundation for more advanced agent features\n",
    "\n",
    "Let's start by creating a simple agent with default settings."
   ]
  },
  {
   "cell_type": "code",
   "execution_count": null,
   "metadata": {},
   "outputs": [],
   "source": [
    "# Create an agent with settings using the above Session and Bedrock Model Information\n",
    "agent = Agent(model=bedrock_model)\n",
    "\n",
    "print(\"Agent created successfully!\")\n",
    "print(f\"Agent type: {type(agent).__name__}\")"
   ]
  },
  {
   "cell_type": "markdown",
   "metadata": {},
   "source": [
    "## 2. Asking Your Agent a Question\n",
    "\n",
    "Now let's ask our agent a simple question to see how it responds."
   ]
  },
  {
   "cell_type": "code",
   "execution_count": null,
   "metadata": {},
   "outputs": [],
   "source": [
    "# Ask the agent a question\n",
    "response = agent(\"Tell me about agentic AI\")\n",
    "print(\"Agent's response:\")\n",
    "print(response)"
   ]
  },
  {
   "cell_type": "markdown",
   "metadata": {},
   "source": [
    "## 3. Creating an Agent with Custom Configuration\n",
    "\n",
    "Let's create a more customized agent with specific settings and behavior."
   ]
  },
  {
   "cell_type": "code",
   "execution_count": null,
   "metadata": {},
   "outputs": [],
   "source": [
    "# Create an agent with custom configuration\n",
    "custom_agent = Agent(\n",
    "    system_prompt=\"You are a senior Python developer.\",\n",
    "    model=bedrock_model,\n",
    ")"
   ]
  },
  {
   "cell_type": "markdown",
   "metadata": {},
   "source": [
    "## 4. Using the Custom Agent\n",
    "\n",
    "Let's test our custom coding assistant agent."
   ]
  },
  {
   "cell_type": "code",
   "execution_count": null,
   "metadata": {},
   "outputs": [],
   "source": [
    "# Ask the custom agent a coding question\n",
    "coding_question = \"How do I create a simple list comprehension in Python?\"\n",
    "coding_response = custom_agent(coding_question)\n",
    "\n",
    "print(f\"Question: {coding_question}\")\n",
    "print(f\"\\nCodeHelper's response:\")\n",
    "print(coding_response)"
   ]
  },
  {
   "cell_type": "markdown",
   "metadata": {},
   "source": [
    "## 5. Conversation History\n",
    "\n",
    "Strands agents can maintain conversation history, allowing for contextual conversations."
   ]
  },
  {
   "cell_type": "code",
   "execution_count": null,
   "metadata": {},
   "outputs": [],
   "source": [
    "# Start a conversation with context\n",
    "print(\"Starting a contextual conversation...\")\n",
    "\n",
    "# First question\n",
    "response1 = custom_agent(\"What is machine learning?\")\n",
    "print(\"Question 1: What is machine learning?\")\n",
    "print(f\"Response 1: {response1}\")\n",
    "\n",
    "print(\"\\n\" + \"=\"*50 + \"\\n\")\n",
    "\n",
    "# Follow-up question (should reference previous context)\n",
    "response2 = custom_agent(\"Can you give me a simple Python example of it?\")\n",
    "print(\"Question 2: Can you give me a simple Python example of it?\")\n",
    "print(f\"Response 2: {response2}\")"
   ]
  },
  {
   "cell_type": "markdown",
   "metadata": {},
   "source": [
    "## 6. Agent with Tools (Advanced)\n",
    "\n",
    "Strands agents can be equipped with tools to perform specific tasks. Let's create an agent with some basic tools."
   ]
  },
  {
   "cell_type": "code",
   "execution_count": null,
   "metadata": {},
   "outputs": [],
   "source": [
    "from strands import Agent, tool\n",
    "import datetime\n",
    "import random\n",
    "\n",
    "# Define some simple tools\n",
    "@tool\n",
    "def get_current_time():\n",
    "    \"\"\"Get the current date and time.\"\"\"\n",
    "    return datetime.datetime.now().strftime(\"%Y-%m-%d %H:%M:%S\")\n",
    "\n",
    "@tool\n",
    "def generate_random_number(min_val:int=1, max_val:int=100):\n",
    "    \"\"\"Generate a random number between min_val and max_val. min_val defaults to 1, max_val defaults to 100\"\"\"\n",
    "    return random.randint(min_val, max_val)\n",
    "\n",
    "@tool\n",
    "def calculate_factorial(n:int):\n",
    "    \"\"\"Calculate the factorial of a number.\"\"\"\n",
    "    if n < 0:\n",
    "        return \"Factorial is not defined for negative numbers\"\n",
    "    elif n == 0 or n == 1:\n",
    "        return 1\n",
    "    else:\n",
    "        result = 1\n",
    "        for i in range(2, n + 1):\n",
    "            result *= i\n",
    "        return result\n",
    "\n",
    "# Create an agent with tools\n",
    "tool_agent = Agent(\n",
    "    system_prompt=\"You are a tool equipped agent. Use them where appropriate.\",\n",
    "    tools=[\n",
    "        get_current_time,\n",
    "        generate_random_number,\n",
    "        calculate_factorial\n",
    "    ],\n",
    "    model=bedrock_model,\n",
    ")\n",
    "\n",
    "print(\"Tool-equipped agent created!\")\n"
   ]
  },
  {
   "cell_type": "markdown",
   "metadata": {},
   "source": [
    "### 🔧 Key Implementation Details\n",
    "\n",
    "The code above demonstrates several critical concepts for tool development:\n",
    "\n",
    "#### 1. **@tool Decorator**\n",
    "- The `@tool` decorator is **essential** for agent tool recognition\n",
    "- Without this decorator, functions are ignored even when passed to the Agent's `tools` parameter\n",
    "- This decorator registers the function in the agent's tool registry\n",
    "\n",
    "#### 2. **Type Hints for Parameter Conversion**\n",
    "- **Critical for proper functionality**: Agents receive string inputs by default\n",
    "- Type hints like `n:int` instruct the agent to convert string inputs to the correct type\n",
    "- Example conversion: `\"5\"` (string) → `int(\"5\")` → `5` (integer)\n",
    "- **Without type hints**: Functions may receive incorrect data types, causing errors\n",
    "\n",
    "#### 3. **Performance Impact**\n",
    "- **With proper type hints**: Direct, efficient tool execution\n",
    "- **Without type hints**: Multiple inference cycles due to error handling:\n",
    "  1. Agent attempts tool use with wrong type\n",
    "  2. Function returns error\n",
    "  3. Agent analyzes error and retries\n",
    "  4. Additional API calls and latency\n",
    "\n",
    "#### 4. **Best Practices**\n",
    "- Always include descriptive docstrings for tool functions\n",
    "- Use clear, specific type hints for all parameters\n",
    "- Handle edge cases within your tool functions\n",
    "- Provide meaningful default values where appropriate\n",
    "\n",
    "💡 **Pro Tip**: Proper type hints significantly improve agent performance and reduce API costs by minimizing failed tool calls."
   ]
  },
  {
   "cell_type": "markdown",
   "metadata": {},
   "source": [
    "## 7. Using Agent Tools\n",
    "\n",
    "Now let's ask our tool-equipped agent to perform tasks using its tools."
   ]
  },
  {
   "cell_type": "code",
   "execution_count": null,
   "metadata": {},
   "outputs": [],
   "source": [
    "# Ask the agent to use its tools\n",
    "questions_and_responses = [\n",
    "    \"What time is it right now?\",\n",
    "    \"Can you generate a random number for me?\",\n",
    "    \"What's the factorial of 5?\",\n",
    "    \"Generate a random number between 50 and 100\"\n",
    "]\n",
    "\n",
    "for question in questions_and_responses:\n",
    "    response = tool_agent(question)\n",
    "    print(f\"Q: {question}\")\n",
    "    print(f\"A: {response}\")\n",
    "    print(\"-\" * 40)"
   ]
  },
  {
   "cell_type": "markdown",
   "metadata": {},
   "source": [
    "There are several noteworthy details with the output and the corresponding code:\n",
    "\n",
    " - The 2nd question asks for a random number without specification of a range. The agent will use the defined defaults from the function in the code and generate a number between 1 and 100.\n",
    " - The 3rd question asks for the factorial. Normally, the function would be passed a str and not an int as required by the function. Through the use of Python type hints, one can provide the agent with information which format the input should have. In this case, the str is converted into int before it is passed to the factorial function.\n",
    " - The 4th question asks for random numbers with a range. Similar to the above, the type hints allow the agent to infer the right format for the input and use the tool correctly.\n",
    "\n",
    "Without type hints, the agent would face difficulties to pass the input properly to the function. This can result in error messages such as:\n",
    "~~~\n",
    "I apologize for the error. It seems the function expects string values for the parameters...\n",
    "~~~\n",
    "In some cases, this can be resolved automatically, but to increase chances and speed of responses, using type hints is recommended."
   ]
  },
  {
   "cell_type": "markdown",
   "metadata": {},
   "source": [
    "## 8. Error Handling and Safety\n",
    "\n",
    "Strands agents include built-in safety features and error handling."
   ]
  },
  {
   "cell_type": "code",
   "execution_count": null,
   "metadata": {},
   "outputs": [],
   "source": [
    "# Test error handling\n",
    "try:\n",
    "    # Try asking for something potentially problematic\n",
    "    response = tool_agent(\"Calculate the factorial of -5\")\n",
    "    print(\"Response:\", response)\n",
    "except Exception as e:\n",
    "    print(f\"Error handled gracefully: {e}\")\n",
    "\n",
    "# Test with empty input\n",
    "try:\n",
    "    response = tool_agent(\"\")\n",
    "    print(\"Empty input response:\", response)\n",
    "except Exception as e:\n",
    "    print(f\"Empty input handled: {e}\")"
   ]
  },
  {
   "cell_type": "markdown",
   "metadata": {},
   "source": [
    "## 9. Agent Performance Monitoring\n",
    "\n",
    "Let's look at some basic monitoring and evaluation of our agent's performance."
   ]
  },
  {
   "cell_type": "code",
   "execution_count": null,
   "metadata": {},
   "outputs": [],
   "source": [
    "import time\n",
    "\n",
    "# Monitor response time\n",
    "start_time = time.time()\n",
    "response = agent(\"Explain what artificial intelligence is in simple terms\")\n",
    "end_time = time.time()\n",
    "\n",
    "response_time = end_time - start_time\n",
    "word_count = len(response.message[\"content\"][0][\"text\"])\n",
    "\n",
    "print(f\"Response time: {response_time:.2f} seconds\")\n",
    "print(f\"Response word count: {word_count} words\")\n",
    "print(f\"Words per second: {word_count/response_time:.2f}\")\n",
    "# print(\"\\nResponse:\")\n",
    "# print(response)"
   ]
  },
  {
   "cell_type": "markdown",
   "metadata": {},
   "source": [
    "## Conclusion\n",
    "\n",
    "This notebook has demonstrated the key features of the Strands Agents SDK:\n",
    "\n",
    "1. **Simple Agent Creation**: Easy to create agents with minimal code\n",
    "2. **Customization**: Configure agents with specific parameters and behavior\n",
    "3. **Tool Integration**: Equip agents with custom tools and functions\n",
    "4. **Conversation Context**: Maintain conversation history for contextual interactions\n",
    "5. **Error Handling**: Built-in safety and error handling mechanisms\n",
    "6. **Performance Monitoring**: Track and evaluate agent performance\n",
    "7. **Production Readiness**: Configuration options for deployment\n",
    "\n",
    "### Next Steps\n",
    "\n",
    "To learn more about Strands Agents:\n",
    "- Visit the [official documentation](https://strandsagents.com/0.1.x/)\n",
    "- Explore the User Guide sections:\n",
    "  - Welcome\n",
    "  - Quickstart\n",
    "  - Concepts\n",
    "  - Safety & Security\n",
    "  - Observability & Evaluation\n",
    "  - Deploy\n",
    "\n",
    "Happy building with Strands Agents! 🚀"
   ]
  }
 ],
 "metadata": {
  "kernelspec": {
   "display_name": "venv",
   "language": "python",
   "name": "python3"
  },
  "language_info": {
   "codemirror_mode": {
    "name": "ipython",
    "version": 3
   },
   "file_extension": ".py",
   "mimetype": "text/x-python",
   "name": "python",
   "nbconvert_exporter": "python",
   "pygments_lexer": "ipython3",
   "version": "3.13.3"
  }
 },
 "nbformat": 4,
 "nbformat_minor": 4
}
