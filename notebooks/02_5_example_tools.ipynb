{
 "cells": [
  {
   "cell_type": "markdown",
   "metadata": {},
   "source": [
    "# Example Tools Package - Strands Agents SDK\n",
    "\n",
    "**Pre-built Tools for Rapid Agent Development**\n",
    "\n",
    "---\n",
    "\n",
    "Welcome to this tutorial on the **strands-agents-tools** package! This notebook demonstrates the pre-built tools available in the Strands ecosystem, allowing you to quickly add powerful capabilities to your agents without writing custom tool code.\n",
    "\n",
    "### 🎯 What You'll Learn\n",
    "\n",
    "In this 10-minute tutorial, you will:\n",
    "- Install and configure the strands-agents-tools package\n",
    "- Explore pre-built tools across different categories\n",
    "- Create agents with file operations, shell commands, and web requests\n",
    "- Use utilities like calculator and current_time\n",
    "- Understand tool consent and how to bypass it for automation\n",
    "- Build a practical multi-tool agent\n",
    "\n",
    "### 📦 What is strands-agents-tools?\n",
    "\n",
    "The **strands-agents-tools** package provides ready-to-use tools for common agent tasks:\n",
    "- 🗂️ File operations (read, write, edit)\n",
    "- 🖥️ Shell command execution\n",
    "- 🌐 HTTP requests and web interactions\n",
    "- 🧮 Mathematical calculations\n",
    "- 🐍 Python code execution\n",
    "- 🤖 Multi-agent coordination\n",
    "- And many more!\n",
    "\n",
    "Let's dive in and explore these powerful tools!"
   ]
  },
  {
   "cell_type": "markdown",
   "metadata": {},
   "source": [
    "## 📦 Step 1: Installing the Example Tools Package\n",
    "\n",
    "### Overview\n",
    "The strands-agents-tools package is optional and provides pre-built tools to accelerate your development.\n",
    "\n",
    "### 💡 Installation Options\n",
    "- **Basic**: Standard tools (file ops, shell, utilities)\n",
    "- **Extended**: Additional dependencies for specific tools (e.g., mem0_memory)"
   ]
  },
  {
   "cell_type": "code",
   "execution_count": 1,
   "metadata": {},
   "outputs": [
    {
     "name": "stdout",
     "output_type": "stream",
     "text": [
      "Note: you may need to restart the kernel to use updated packages.\n",
      "✅ strands-agents-tools package installed successfully!\n",
      "   Ready to explore pre-built tools! 🚀\n"
     ]
    }
   ],
   "source": [
    "# Install strands-agents-tools package\n",
    "%pip install strands-agents strands-agents-tools -q\n",
    "\n",
    "# Optional: Install with mem0_memory support\n",
    "# %pip install strands-agents-tools[mem0_memory] -q\n",
    "\n",
    "print(\"✅ strands-agents-tools package installed successfully!\")\n",
    "print(\"   Ready to explore pre-built tools! 🚀\")"
   ]
  },
  {
   "cell_type": "markdown",
   "metadata": {},
   "source": [
    "## 🔧 Step 2: Setting Up Tool Consent\n",
    "\n",
    "### Understanding Tool Consent\n",
    "By default, potentially sensitive operations (file modifications, shell commands) require user confirmation.\n",
    "\n",
    "### 🚦 Bypassing Consent for Automation\n",
    "For this tutorial, we'll bypass consent to run examples smoothly."
   ]
  },
  {
   "cell_type": "code",
   "execution_count": 2,
   "metadata": {},
   "outputs": [
    {
     "name": "stdout",
     "output_type": "stream",
     "text": [
      "✅ Tool consent bypassed for automated execution\n",
      "   ⚠️  In production, consider keeping consent enabled for safety\n",
      "\n",
      "✅ AWS Bedrock configured successfully!\n"
     ]
    }
   ],
   "source": [
    "import os\n",
    "import boto3\n",
    "from strands import Agent\n",
    "from strands.models import BedrockModel\n",
    "\n",
    "# Bypass tool consent for this tutorial\n",
    "os.environ[\"BYPASS_TOOL_CONSENT\"] = \"true\"\n",
    "print(\"✅ Tool consent bypassed for automated execution\")\n",
    "print(\"   ⚠️  In production, consider keeping consent enabled for safety\")\n",
    "\n",
    "# Configure AWS Bedrock\n",
    "session = boto3.Session(profile_name='default')\n",
    "bedrock_model = BedrockModel(\n",
    "    model_id=\"us.anthropic.claude-3-7-sonnet-20250219-v1:0\",\n",
    "    boto_session=session\n",
    ")\n",
    "\n",
    "print(\"\\n✅ AWS Bedrock configured successfully!\")"
   ]
  },
  {
   "cell_type": "markdown",
   "metadata": {},
   "source": [
    "## 🧮 Step 3: Utility Tools - Calculator and Time\n",
    "\n",
    "### Starting Simple\n",
    "Let's begin with the most straightforward tools: calculator and current_time. These demonstrate how pre-built tools work without any configuration."
   ]
  },
  {
   "cell_type": "code",
   "execution_count": 3,
   "metadata": {},
   "outputs": [
    {
     "name": "stdout",
     "output_type": "stream",
     "text": [
      "🧮 Utility agent created with:\n",
      "   - calculator: Mathematical operations\n",
      "   - current_time: Get current date/time\n",
      "\n",
      "📊 Testing utility tools...\n",
      "I can help you with the current date and time. Let me get that for you.\n",
      "Tool #1: current_time\n",
      "The current date and time is June 19, 2025, 8:18:20 AM UTC.\n",
      "\n",
      "Would you like to know the current time in a different timezone? If so, please let me know which timezone you're interested in.\n",
      "⏰ Time query response:\n",
      "The current date and time is June 19, 2025, 8:18:20 AM UTC.\n",
      "\n",
      "Would you like to know the current time in a different timezone? If so, please let me know which timezone you're interested in.\n",
      "\n",
      "I'll calculate (25 * 4) + (15 / 3) - 7 for you.\n",
      "Tool #2: calculator\n"
     ]
    },
    {
     "data": {
      "text/html": [
       "<pre style=\"white-space:pre;overflow-x:auto;line-height:normal;font-family:Menlo,'DejaVu Sans Mono',consolas,'Courier New',monospace\"><span style=\"color: #000080; text-decoration-color: #000080\">╭────────────────────────────────────────────── </span><span style=\"color: #000080; text-decoration-color: #000080; font-weight: bold\">Calculation Result</span><span style=\"color: #000080; text-decoration-color: #000080\"> ───────────────────────────────────────────────╮</span>\n",
       "<span style=\"color: #000080; text-decoration-color: #000080\">│</span>                                                                                                                 <span style=\"color: #000080; text-decoration-color: #000080\">│</span>\n",
       "<span style=\"color: #000080; text-decoration-color: #000080\">│</span>  ╭───────────┬─────────────────────────╮                                                                        <span style=\"color: #000080; text-decoration-color: #000080\">│</span>\n",
       "<span style=\"color: #000080; text-decoration-color: #000080\">│</span>  │<span style=\"color: #008080; text-decoration-color: #008080\"> Operation </span>│<span style=\"color: #008000; text-decoration-color: #008000\"> Evaluate Expression     </span>│                                                                        <span style=\"color: #000080; text-decoration-color: #000080\">│</span>\n",
       "<span style=\"color: #000080; text-decoration-color: #000080\">│</span>  │<span style=\"color: #008080; text-decoration-color: #008080\"> Input     </span>│<span style=\"color: #008000; text-decoration-color: #008000\"> (25 * 4) + (15 / 3) - 7 </span>│                                                                        <span style=\"color: #000080; text-decoration-color: #000080\">│</span>\n",
       "<span style=\"color: #000080; text-decoration-color: #000080\">│</span>  │<span style=\"color: #008080; text-decoration-color: #008080\"> Result    </span>│<span style=\"color: #008000; text-decoration-color: #008000\"> 98                      </span>│                                                                        <span style=\"color: #000080; text-decoration-color: #000080\">│</span>\n",
       "<span style=\"color: #000080; text-decoration-color: #000080\">│</span>  ╰───────────┴─────────────────────────╯                                                                        <span style=\"color: #000080; text-decoration-color: #000080\">│</span>\n",
       "<span style=\"color: #000080; text-decoration-color: #000080\">│</span>                                                                                                                 <span style=\"color: #000080; text-decoration-color: #000080\">│</span>\n",
       "<span style=\"color: #000080; text-decoration-color: #000080\">╰─────────────────────────────────────────────────────────────────────────────────────────────────────────────────╯</span>\n",
       "</pre>\n"
      ],
      "text/plain": [
       "\u001b[34m╭─\u001b[0m\u001b[34m─────────────────────────────────────────────\u001b[0m\u001b[34m \u001b[0m\u001b[1;34mCalculation Result\u001b[0m\u001b[34m \u001b[0m\u001b[34m──────────────────────────────────────────────\u001b[0m\u001b[34m─╮\u001b[0m\n",
       "\u001b[34m│\u001b[0m                                                                                                                 \u001b[34m│\u001b[0m\n",
       "\u001b[34m│\u001b[0m  ╭───────────┬─────────────────────────╮                                                                        \u001b[34m│\u001b[0m\n",
       "\u001b[34m│\u001b[0m  │\u001b[36m \u001b[0m\u001b[36mOperation\u001b[0m\u001b[36m \u001b[0m│\u001b[32m \u001b[0m\u001b[32mEvaluate Expression    \u001b[0m\u001b[32m \u001b[0m│                                                                        \u001b[34m│\u001b[0m\n",
       "\u001b[34m│\u001b[0m  │\u001b[36m \u001b[0m\u001b[36mInput    \u001b[0m\u001b[36m \u001b[0m│\u001b[32m \u001b[0m\u001b[32m(25 * 4) + (15 / 3) - 7\u001b[0m\u001b[32m \u001b[0m│                                                                        \u001b[34m│\u001b[0m\n",
       "\u001b[34m│\u001b[0m  │\u001b[36m \u001b[0m\u001b[36mResult   \u001b[0m\u001b[36m \u001b[0m│\u001b[32m \u001b[0m\u001b[32m98                     \u001b[0m\u001b[32m \u001b[0m│                                                                        \u001b[34m│\u001b[0m\n",
       "\u001b[34m│\u001b[0m  ╰───────────┴─────────────────────────╯                                                                        \u001b[34m│\u001b[0m\n",
       "\u001b[34m│\u001b[0m                                                                                                                 \u001b[34m│\u001b[0m\n",
       "\u001b[34m╰─────────────────────────────────────────────────────────────────────────────────────────────────────────────────╯\u001b[0m\n"
      ]
     },
     "metadata": {},
     "output_type": "display_data"
    },
    {
     "name": "stdout",
     "output_type": "stream",
     "text": [
      "The calculation is:\n",
      "(25 * 4) + (15 / 3) - 7\n",
      "= 100 + 5 - 7\n",
      "= 98\n",
      "\n",
      "The result is 98.\n",
      "🧮 Calculation response:\n",
      "The calculation is:\n",
      "(25 * 4) + (15 / 3) - 7\n",
      "= 100 + 5 - 7\n",
      "= 98\n",
      "\n",
      "The result is 98.\n",
      "\n"
     ]
    }
   ],
   "source": [
    "from strands_tools import calculator, current_time\n",
    "\n",
    "# Create an agent with utility tools\n",
    "utility_agent = Agent(\n",
    "    system_prompt=\"\"\"You are a helpful assistant with calculation and time capabilities.\n",
    "    Use your tools to provide accurate information.\"\"\",\n",
    "    tools=[calculator, current_time],\n",
    "    model=bedrock_model\n",
    ")\n",
    "\n",
    "print(\"🧮 Utility agent created with:\")\n",
    "print(\"   - calculator: Mathematical operations\")\n",
    "print(\"   - current_time: Get current date/time\")\n",
    "\n",
    "# Test the utility tools\n",
    "print(\"\\n📊 Testing utility tools...\")\n",
    "\n",
    "# Test 1: Current time\n",
    "response = utility_agent(\"What's the current date and time?\")\n",
    "print(f\"\\n⏰ Time query response:\")\n",
    "print(response)\n",
    "\n",
    "# Test 2: Calculation\n",
    "response = utility_agent(\"Calculate (25 * 4) + (15 / 3) - 7\")\n",
    "print(f\"\\n🧮 Calculation response:\")\n",
    "print(response)"
   ]
  },
  {
   "cell_type": "markdown",
   "metadata": {},
   "source": [
    "## 📄 Step 4: File Operations Tools\n",
    "\n",
    "### Working with Files\n",
    "The file operation tools (file_read, file_write, editor) enable agents to interact with the file system. Let's see them in action!\n",
    "\n",
    "⚠️ **Windows Terminal Compatibility Note**: The file operations tools may encounter issues in certain terminal environments on Windows. If you see errors related to `NoConsoleScreenBufferError` or `This event loop is already running`, you can:\n",
    "1. Run the notebook in a standard Windows Command Prompt\n",
    "2. Use `winpty` to wrap your Python/Jupyter process\n",
    "3. Add `nest_asyncio` to handle event loop issues:\n",
    "   ```python\n",
    "   import nest_asyncio\n",
    "   nest_asyncio.apply()\n",
    "   ```"
   ]
  },
  {
   "cell_type": "code",
   "execution_count": null,
   "metadata": {},
   "outputs": [
    {
     "name": "stdout",
     "output_type": "stream",
     "text": [
      "📄 File operations agent created with:\n",
      "   - file_read: Read and parse files\n",
      "   - file_write: Create and modify files\n",
      "   - editor: Advanced file editing operations\n",
      "\n",
      "📝 Testing file operations...\n",
      "I'll create the file with the specified content right away.\n",
      "Tool #7: file_write\n"
     ]
    },
    {
     "data": {
      "text/html": [
       "<pre style=\"white-space:pre;overflow-x:auto;line-height:normal;font-family:Menlo,'DejaVu Sans Mono',consolas,'Courier New',monospace\"><span style=\"color: #000080; text-decoration-color: #000080\">╔══════ </span><span style=\"color: #000080; text-decoration-color: #000080; font-weight: bold\">File Write Operation</span><span style=\"color: #000080; text-decoration-color: #000080\"> ══════╗</span>\n",
       "<span style=\"color: #000080; text-decoration-color: #000080\">║</span>                                  <span style=\"color: #000080; text-decoration-color: #000080\">║</span>\n",
       "<span style=\"color: #000080; text-decoration-color: #000080\">║</span> <span style=\"color: #008080; text-decoration-color: #008080\">Path: </span><span style=\"color: #808000; text-decoration-color: #808000\">tmp/example_tools_demo.txt</span> <span style=\"color: #000080; text-decoration-color: #000080\">║</span>\n",
       "<span style=\"color: #000080; text-decoration-color: #000080\">║</span> <span style=\"color: #008080; text-decoration-color: #008080\">Size: </span><span style=\"color: #808000; text-decoration-color: #808000\">201 characters</span>             <span style=\"color: #000080; text-decoration-color: #000080\">║</span>\n",
       "<span style=\"color: #000080; text-decoration-color: #000080\">║</span>                                  <span style=\"color: #000080; text-decoration-color: #000080\">║</span>\n",
       "<span style=\"color: #000080; text-decoration-color: #000080\">╚══════════════════════════════════╝</span>\n",
       "</pre>\n"
      ],
      "text/plain": [
       "\u001b[34m╔═\u001b[0m\u001b[34m═════\u001b[0m\u001b[34m \u001b[0m\u001b[1;34mFile Write Operation\u001b[0m\u001b[34m \u001b[0m\u001b[34m═════\u001b[0m\u001b[34m═╗\u001b[0m\n",
       "\u001b[34m║\u001b[0m                                  \u001b[34m║\u001b[0m\n",
       "\u001b[34m║\u001b[0m \u001b[36mPath: \u001b[0m\u001b[33mtmp/example_tools_demo.txt\u001b[0m \u001b[34m║\u001b[0m\n",
       "\u001b[34m║\u001b[0m \u001b[36mSize: \u001b[0m\u001b[33m201 characters\u001b[0m             \u001b[34m║\u001b[0m\n",
       "\u001b[34m║\u001b[0m                                  \u001b[34m║\u001b[0m\n",
       "\u001b[34m╚══════════════════════════════════╝\u001b[0m\n"
      ]
     },
     "metadata": {},
     "output_type": "display_data"
    },
    {
     "data": {
      "text/html": [
       "<pre style=\"white-space:pre;overflow-x:auto;line-height:normal;font-family:Menlo,'DejaVu Sans Mono',consolas,'Courier New',monospace\"><span style=\"color: #000080; text-decoration-color: #000080\">╔═══════════════════════ File Content (txt) ═══════════════════════╗</span>\n",
       "<span style=\"color: #000080; text-decoration-color: #000080\">║</span>                                                                  <span style=\"color: #000080; text-decoration-color: #000080\">║</span>\n",
       "<span style=\"color: #000080; text-decoration-color: #000080\">║</span> <span style=\"color: #e3e3dd; text-decoration-color: #e3e3dd; background-color: #272822; font-weight: bold\">  </span><span style=\"color: #656660; text-decoration-color: #656660; background-color: #272822\"> 1 </span><span style=\"color: #f8f8f2; text-decoration-color: #f8f8f2; background-color: #272822\">---</span><span style=\"background-color: #272822\">                                                        </span> <span style=\"color: #000080; text-decoration-color: #000080\">║</span>\n",
       "<span style=\"color: #000080; text-decoration-color: #000080\">║</span> <span style=\"color: #e3e3dd; text-decoration-color: #e3e3dd; background-color: #272822; font-weight: bold\">  </span><span style=\"color: #656660; text-decoration-color: #656660; background-color: #272822\"> 2 </span><span style=\"color: #f8f8f2; text-decoration-color: #f8f8f2; background-color: #272822\">Strands Agents Tools Demo</span><span style=\"background-color: #272822\">                                  </span> <span style=\"color: #000080; text-decoration-color: #000080\">║</span>\n",
       "<span style=\"color: #000080; text-decoration-color: #000080\">║</span> <span style=\"color: #e3e3dd; text-decoration-color: #e3e3dd; background-color: #272822; font-weight: bold\">  </span><span style=\"color: #656660; text-decoration-color: #656660; background-color: #272822\"> 3 </span><span style=\"color: #f8f8f2; text-decoration-color: #f8f8f2; background-color: #272822\">=========================</span><span style=\"background-color: #272822\">                                  </span> <span style=\"color: #000080; text-decoration-color: #000080\">║</span>\n",
       "<span style=\"color: #000080; text-decoration-color: #000080\">║</span> <span style=\"color: #e3e3dd; text-decoration-color: #e3e3dd; background-color: #272822; font-weight: bold\">  </span><span style=\"color: #656660; text-decoration-color: #656660; background-color: #272822\"> 4 </span><span style=\"background-color: #272822\">                                                           </span> <span style=\"color: #000080; text-decoration-color: #000080\">║</span>\n",
       "<span style=\"color: #000080; text-decoration-color: #000080\">║</span> <span style=\"color: #e3e3dd; text-decoration-color: #e3e3dd; background-color: #272822; font-weight: bold\">  </span><span style=\"color: #656660; text-decoration-color: #656660; background-color: #272822\"> 5 </span><span style=\"color: #f8f8f2; text-decoration-color: #f8f8f2; background-color: #272822\">This file was created by an AI agent using pre-built tools.</span> <span style=\"color: #000080; text-decoration-color: #000080\">║</span>\n",
       "<span style=\"color: #000080; text-decoration-color: #000080\">║</span> <span style=\"color: #e3e3dd; text-decoration-color: #e3e3dd; background-color: #272822; font-weight: bold\">  </span><span style=\"color: #656660; text-decoration-color: #656660; background-color: #272822\"> 6 </span><span style=\"background-color: #272822\">                                                           </span> <span style=\"color: #000080; text-decoration-color: #000080\">║</span>\n",
       "<span style=\"color: #000080; text-decoration-color: #000080\">║</span> <span style=\"color: #e3e3dd; text-decoration-color: #e3e3dd; background-color: #272822; font-weight: bold\">  </span><span style=\"color: #656660; text-decoration-color: #656660; background-color: #272822\"> 7 </span><span style=\"color: #f8f8f2; text-decoration-color: #f8f8f2; background-color: #272822\">Features demonstrated:</span><span style=\"background-color: #272822\">                                     </span> <span style=\"color: #000080; text-decoration-color: #000080\">║</span>\n",
       "<span style=\"color: #000080; text-decoration-color: #000080\">║</span> <span style=\"color: #e3e3dd; text-decoration-color: #e3e3dd; background-color: #272822; font-weight: bold\">  </span><span style=\"color: #656660; text-decoration-color: #656660; background-color: #272822\"> 8 </span><span style=\"color: #f8f8f2; text-decoration-color: #f8f8f2; background-color: #272822\">- File creation</span><span style=\"background-color: #272822\">                                            </span> <span style=\"color: #000080; text-decoration-color: #000080\">║</span>\n",
       "<span style=\"color: #000080; text-decoration-color: #000080\">║</span> <span style=\"color: #e3e3dd; text-decoration-color: #e3e3dd; background-color: #272822; font-weight: bold\">  </span><span style=\"color: #656660; text-decoration-color: #656660; background-color: #272822\"> 9 </span><span style=\"color: #f8f8f2; text-decoration-color: #f8f8f2; background-color: #272822\">- Content writing</span><span style=\"background-color: #272822\">                                          </span> <span style=\"color: #000080; text-decoration-color: #000080\">║</span>\n",
       "<span style=\"color: #000080; text-decoration-color: #000080\">║</span> <span style=\"color: #e3e3dd; text-decoration-color: #e3e3dd; background-color: #272822; font-weight: bold\">  </span><span style=\"color: #656660; text-decoration-color: #656660; background-color: #272822\">10 </span><span style=\"color: #f8f8f2; text-decoration-color: #f8f8f2; background-color: #272822\">- Automatic tool usage</span><span style=\"background-color: #272822\">                                     </span> <span style=\"color: #000080; text-decoration-color: #000080\">║</span>\n",
       "<span style=\"color: #000080; text-decoration-color: #000080\">║</span> <span style=\"color: #e3e3dd; text-decoration-color: #e3e3dd; background-color: #272822; font-weight: bold\">  </span><span style=\"color: #656660; text-decoration-color: #656660; background-color: #272822\">11 </span><span style=\"color: #f8f8f2; text-decoration-color: #f8f8f2; background-color: #272822\">---</span><span style=\"background-color: #272822\">                                                        </span> <span style=\"color: #000080; text-decoration-color: #000080\">║</span>\n",
       "<span style=\"color: #000080; text-decoration-color: #000080\">║</span>                                                                  <span style=\"color: #000080; text-decoration-color: #000080\">║</span>\n",
       "<span style=\"color: #000080; text-decoration-color: #000080\">╚══════════════════════════════════════════════════════════════════╝</span>\n",
       "</pre>\n"
      ],
      "text/plain": [
       "\u001b[34m╔═\u001b[0m\u001b[34m══════════════════════\u001b[0m\u001b[34m File Content (txt) \u001b[0m\u001b[34m══════════════════════\u001b[0m\u001b[34m═╗\u001b[0m\n",
       "\u001b[34m║\u001b[0m                                                                  \u001b[34m║\u001b[0m\n",
       "\u001b[34m║\u001b[0m \u001b[1;38;2;227;227;221;48;2;39;40;34m  \u001b[0m\u001b[38;2;101;102;96;48;2;39;40;34m 1 \u001b[0m\u001b[38;2;248;248;242;48;2;39;40;34m---\u001b[0m\u001b[48;2;39;40;34m                                                        \u001b[0m \u001b[34m║\u001b[0m\n",
       "\u001b[34m║\u001b[0m \u001b[1;38;2;227;227;221;48;2;39;40;34m  \u001b[0m\u001b[38;2;101;102;96;48;2;39;40;34m 2 \u001b[0m\u001b[38;2;248;248;242;48;2;39;40;34mStrands Agents Tools Demo\u001b[0m\u001b[48;2;39;40;34m                                  \u001b[0m \u001b[34m║\u001b[0m\n",
       "\u001b[34m║\u001b[0m \u001b[1;38;2;227;227;221;48;2;39;40;34m  \u001b[0m\u001b[38;2;101;102;96;48;2;39;40;34m 3 \u001b[0m\u001b[38;2;248;248;242;48;2;39;40;34m=========================\u001b[0m\u001b[48;2;39;40;34m                                  \u001b[0m \u001b[34m║\u001b[0m\n",
       "\u001b[34m║\u001b[0m \u001b[1;38;2;227;227;221;48;2;39;40;34m  \u001b[0m\u001b[38;2;101;102;96;48;2;39;40;34m 4 \u001b[0m\u001b[48;2;39;40;34m                                                           \u001b[0m \u001b[34m║\u001b[0m\n",
       "\u001b[34m║\u001b[0m \u001b[1;38;2;227;227;221;48;2;39;40;34m  \u001b[0m\u001b[38;2;101;102;96;48;2;39;40;34m 5 \u001b[0m\u001b[38;2;248;248;242;48;2;39;40;34mThis file was created by an AI agent using pre-built tools.\u001b[0m \u001b[34m║\u001b[0m\n",
       "\u001b[34m║\u001b[0m \u001b[1;38;2;227;227;221;48;2;39;40;34m  \u001b[0m\u001b[38;2;101;102;96;48;2;39;40;34m 6 \u001b[0m\u001b[48;2;39;40;34m                                                           \u001b[0m \u001b[34m║\u001b[0m\n",
       "\u001b[34m║\u001b[0m \u001b[1;38;2;227;227;221;48;2;39;40;34m  \u001b[0m\u001b[38;2;101;102;96;48;2;39;40;34m 7 \u001b[0m\u001b[38;2;248;248;242;48;2;39;40;34mFeatures demonstrated:\u001b[0m\u001b[48;2;39;40;34m                                     \u001b[0m \u001b[34m║\u001b[0m\n",
       "\u001b[34m║\u001b[0m \u001b[1;38;2;227;227;221;48;2;39;40;34m  \u001b[0m\u001b[38;2;101;102;96;48;2;39;40;34m 8 \u001b[0m\u001b[38;2;248;248;242;48;2;39;40;34m- File creation\u001b[0m\u001b[48;2;39;40;34m                                            \u001b[0m \u001b[34m║\u001b[0m\n",
       "\u001b[34m║\u001b[0m \u001b[1;38;2;227;227;221;48;2;39;40;34m  \u001b[0m\u001b[38;2;101;102;96;48;2;39;40;34m 9 \u001b[0m\u001b[38;2;248;248;242;48;2;39;40;34m- Content writing\u001b[0m\u001b[48;2;39;40;34m                                          \u001b[0m \u001b[34m║\u001b[0m\n",
       "\u001b[34m║\u001b[0m \u001b[1;38;2;227;227;221;48;2;39;40;34m  \u001b[0m\u001b[38;2;101;102;96;48;2;39;40;34m10 \u001b[0m\u001b[38;2;248;248;242;48;2;39;40;34m- Automatic tool usage\u001b[0m\u001b[48;2;39;40;34m                                     \u001b[0m \u001b[34m║\u001b[0m\n",
       "\u001b[34m║\u001b[0m \u001b[1;38;2;227;227;221;48;2;39;40;34m  \u001b[0m\u001b[38;2;101;102;96;48;2;39;40;34m11 \u001b[0m\u001b[38;2;248;248;242;48;2;39;40;34m---\u001b[0m\u001b[48;2;39;40;34m                                                        \u001b[0m \u001b[34m║\u001b[0m\n",
       "\u001b[34m║\u001b[0m                                                                  \u001b[34m║\u001b[0m\n",
       "\u001b[34m╚══════════════════════════════════════════════════════════════════╝\u001b[0m\n"
      ]
     },
     "metadata": {},
     "output_type": "display_data"
    },
    {
     "name": "stderr",
     "output_type": "stream",
     "text": [
      "tool_name=<file_write> | failed to process tool\n",
      "Traceback (most recent call last):\n",
      "  File \"d:\\Code Workspace\\strands\\venv\\Lib\\site-packages\\strands\\handlers\\tool_handler.py\", line 105, in process\n",
      "    return tool_func.invoke(tool, **kwargs)\n",
      "           ~~~~~~~~~~~~~~~~^^^^^^^^^^^^^^^^\n",
      "  File \"d:\\Code Workspace\\strands\\venv\\Lib\\site-packages\\strands\\tools\\tools.py\", line 322, in invoke\n",
      "    return self._callback(tool, *args, **kwargs)\n",
      "           ~~~~~~~~~~~~~~^^^^^^^^^^^^^^^^^^^^^^^\n",
      "  File \"D:\\Code Workspace\\strands\\venv\\Lib\\site-packages\\strands_tools\\file_write.py\", line 224, in file_write\n",
      "    user_input = get_user_input(\"<yellow><bold>Do you want to proceed with the file write?</bold> [y/*]</yellow>\")\n",
      "  File \"d:\\Code Workspace\\strands\\venv\\Lib\\site-packages\\strands_tools\\utils\\user_input.py\", line 62, in get_user_input\n",
      "    result = loop.run_until_complete(get_user_input_async(prompt, default))\n",
      "  File \"C:\\Program Files\\Python313\\Lib\\asyncio\\base_events.py\", line 719, in run_until_complete\n",
      "    return future.result()\n",
      "           ~~~~~~~~~~~~~^^\n",
      "  File \"d:\\Code Workspace\\strands\\venv\\Lib\\site-packages\\strands_tools\\utils\\user_input.py\", line 30, in get_user_input_async\n",
      "    with patch_stdout(raw=True):\n",
      "         ~~~~~~~~~~~~^^^^^^^^^^\n",
      "  File \"C:\\Program Files\\Python313\\Lib\\contextlib.py\", line 141, in __enter__\n",
      "    return next(self.gen)\n",
      "  File \"d:\\Code Workspace\\strands\\venv\\Lib\\site-packages\\prompt_toolkit\\patch_stdout.py\", line 58, in patch_stdout\n",
      "    with StdoutProxy(raw=raw) as proxy:\n",
      "         ~~~~~~~~~~~^^^^^^^^^\n",
      "  File \"d:\\Code Workspace\\strands\\venv\\Lib\\site-packages\\prompt_toolkit\\patch_stdout.py\", line 115, in __init__\n",
      "    self._output: Output = self.app_session.output\n",
      "                           ^^^^^^^^^^^^^^^^^^^^^^^\n",
      "  File \"d:\\Code Workspace\\strands\\venv\\Lib\\site-packages\\prompt_toolkit\\application\\current.py\", line 67, in output\n",
      "    self._output = create_output()\n",
      "                   ~~~~~~~~~~~~~^^\n",
      "  File \"d:\\Code Workspace\\strands\\venv\\Lib\\site-packages\\prompt_toolkit\\output\\defaults.py\", line 91, in create_output\n",
      "    return Win32Output(stdout, default_color_depth=color_depth_from_env)\n",
      "  File \"d:\\Code Workspace\\strands\\venv\\Lib\\site-packages\\prompt_toolkit\\output\\win32.py\", line 115, in __init__\n",
      "    info = self.get_win32_screen_buffer_info()\n",
      "  File \"d:\\Code Workspace\\strands\\venv\\Lib\\site-packages\\prompt_toolkit\\output\\win32.py\", line 219, in get_win32_screen_buffer_info\n",
      "    raise NoConsoleScreenBufferError\n",
      "prompt_toolkit.output.win32.NoConsoleScreenBufferError: Found xterm-color, while expecting a Windows console. Maybe try to run this program using \"winpty\" or run it in cmd.exe instead. Or otherwise, in case of Cygwin, use the Python executable that is compiled for Cygwin.\n"
     ]
    },
    {
     "name": "stdout",
     "output_type": "stream",
     "text": [
      "I encountered an error while trying to create the file. It appears there might be an issue with the terminal environment. Let me try using the editor tool instead, which might have better handling for this environment:\n",
      "Tool #8: editor\n"
     ]
    },
    {
     "data": {
      "text/html": [
       "<pre style=\"white-space:pre;overflow-x:auto;line-height:normal;font-family:Menlo,'DejaVu Sans Mono',consolas,'Courier New',monospace\"><span style=\"color: #008000; text-decoration-color: #008000\">╔═══════════════════════════════════ </span><span style=\"color: #008000; text-decoration-color: #008000; font-weight: bold\">New File Content (example_tools_demo.txt)</span><span style=\"color: #008000; text-decoration-color: #008000\"> ═══════════════════════════════════╗</span>\n",
       "<span style=\"color: #008000; text-decoration-color: #008000\">║</span> <span style=\"color: #e3e3dd; text-decoration-color: #e3e3dd; background-color: #272822; font-weight: bold\">  </span><span style=\"color: #656660; text-decoration-color: #656660; background-color: #272822\"> 1 </span><span style=\"color: #f8f8f2; text-decoration-color: #f8f8f2; background-color: #272822\">---</span><span style=\"background-color: #272822\">                                                                                                       </span> <span style=\"color: #008000; text-decoration-color: #008000\">║</span>\n",
       "<span style=\"color: #008000; text-decoration-color: #008000\">║</span> <span style=\"color: #e3e3dd; text-decoration-color: #e3e3dd; background-color: #272822; font-weight: bold\">  </span><span style=\"color: #656660; text-decoration-color: #656660; background-color: #272822\"> 2 </span><span style=\"color: #f8f8f2; text-decoration-color: #f8f8f2; background-color: #272822\">Strands Agents Tools Demo</span><span style=\"background-color: #272822\">                                                                                 </span> <span style=\"color: #008000; text-decoration-color: #008000\">║</span>\n",
       "<span style=\"color: #008000; text-decoration-color: #008000\">║</span> <span style=\"color: #e3e3dd; text-decoration-color: #e3e3dd; background-color: #272822; font-weight: bold\">  </span><span style=\"color: #656660; text-decoration-color: #656660; background-color: #272822\"> 3 </span><span style=\"color: #f8f8f2; text-decoration-color: #f8f8f2; background-color: #272822\">=========================</span><span style=\"background-color: #272822\">                                                                                 </span> <span style=\"color: #008000; text-decoration-color: #008000\">║</span>\n",
       "<span style=\"color: #008000; text-decoration-color: #008000\">║</span> <span style=\"color: #e3e3dd; text-decoration-color: #e3e3dd; background-color: #272822; font-weight: bold\">  </span><span style=\"color: #656660; text-decoration-color: #656660; background-color: #272822\"> 4 </span><span style=\"background-color: #272822\">                                                                                                          </span> <span style=\"color: #008000; text-decoration-color: #008000\">║</span>\n",
       "<span style=\"color: #008000; text-decoration-color: #008000\">║</span> <span style=\"color: #e3e3dd; text-decoration-color: #e3e3dd; background-color: #272822; font-weight: bold\">  </span><span style=\"color: #656660; text-decoration-color: #656660; background-color: #272822\"> 5 </span><span style=\"color: #f8f8f2; text-decoration-color: #f8f8f2; background-color: #272822\">This file was created by an AI agent using pre-built tools.</span><span style=\"background-color: #272822\">                                               </span> <span style=\"color: #008000; text-decoration-color: #008000\">║</span>\n",
       "<span style=\"color: #008000; text-decoration-color: #008000\">║</span> <span style=\"color: #e3e3dd; text-decoration-color: #e3e3dd; background-color: #272822; font-weight: bold\">  </span><span style=\"color: #656660; text-decoration-color: #656660; background-color: #272822\"> 6 </span><span style=\"background-color: #272822\">                                                                                                          </span> <span style=\"color: #008000; text-decoration-color: #008000\">║</span>\n",
       "<span style=\"color: #008000; text-decoration-color: #008000\">║</span> <span style=\"color: #e3e3dd; text-decoration-color: #e3e3dd; background-color: #272822; font-weight: bold\">  </span><span style=\"color: #656660; text-decoration-color: #656660; background-color: #272822\"> 7 </span><span style=\"color: #f8f8f2; text-decoration-color: #f8f8f2; background-color: #272822\">Features demonstrated:</span><span style=\"background-color: #272822\">                                                                                    </span> <span style=\"color: #008000; text-decoration-color: #008000\">║</span>\n",
       "<span style=\"color: #008000; text-decoration-color: #008000\">║</span> <span style=\"color: #e3e3dd; text-decoration-color: #e3e3dd; background-color: #272822; font-weight: bold\">  </span><span style=\"color: #656660; text-decoration-color: #656660; background-color: #272822\"> 8 </span><span style=\"color: #f8f8f2; text-decoration-color: #f8f8f2; background-color: #272822\">- File creation</span><span style=\"background-color: #272822\">                                                                                           </span> <span style=\"color: #008000; text-decoration-color: #008000\">║</span>\n",
       "<span style=\"color: #008000; text-decoration-color: #008000\">║</span> <span style=\"color: #e3e3dd; text-decoration-color: #e3e3dd; background-color: #272822; font-weight: bold\">  </span><span style=\"color: #656660; text-decoration-color: #656660; background-color: #272822\"> 9 </span><span style=\"color: #f8f8f2; text-decoration-color: #f8f8f2; background-color: #272822\">- Content writing</span><span style=\"background-color: #272822\">                                                                                         </span> <span style=\"color: #008000; text-decoration-color: #008000\">║</span>\n",
       "<span style=\"color: #008000; text-decoration-color: #008000\">║</span> <span style=\"color: #e3e3dd; text-decoration-color: #e3e3dd; background-color: #272822; font-weight: bold\">  </span><span style=\"color: #656660; text-decoration-color: #656660; background-color: #272822\">10 </span><span style=\"color: #f8f8f2; text-decoration-color: #f8f8f2; background-color: #272822\">- Automatic tool usage</span><span style=\"background-color: #272822\">                                                                                    </span> <span style=\"color: #008000; text-decoration-color: #008000\">║</span>\n",
       "<span style=\"color: #008000; text-decoration-color: #008000\">║</span> <span style=\"color: #e3e3dd; text-decoration-color: #e3e3dd; background-color: #272822; font-weight: bold\">  </span><span style=\"color: #656660; text-decoration-color: #656660; background-color: #272822\">11 </span><span style=\"color: #f8f8f2; text-decoration-color: #f8f8f2; background-color: #272822\">---</span><span style=\"background-color: #272822\">                                                                                                       </span> <span style=\"color: #008000; text-decoration-color: #008000\">║</span>\n",
       "<span style=\"color: #008000; text-decoration-color: #008000\">╚═════════════════════════════════════════════════════════════════════════════════════════════════════════════════╝</span>\n",
       "</pre>\n"
      ],
      "text/plain": [
       "\u001b[32m╔═\u001b[0m\u001b[32m══════════════════════════════════\u001b[0m\u001b[32m \u001b[0m\u001b[1;32mNew File Content (example_tools_demo.txt)\u001b[0m\u001b[32m \u001b[0m\u001b[32m══════════════════════════════════\u001b[0m\u001b[32m═╗\u001b[0m\n",
       "\u001b[32m║\u001b[0m \u001b[1;38;2;227;227;221;48;2;39;40;34m  \u001b[0m\u001b[38;2;101;102;96;48;2;39;40;34m 1 \u001b[0m\u001b[38;2;248;248;242;48;2;39;40;34m---\u001b[0m\u001b[48;2;39;40;34m                                                                                                       \u001b[0m \u001b[32m║\u001b[0m\n",
       "\u001b[32m║\u001b[0m \u001b[1;38;2;227;227;221;48;2;39;40;34m  \u001b[0m\u001b[38;2;101;102;96;48;2;39;40;34m 2 \u001b[0m\u001b[38;2;248;248;242;48;2;39;40;34mStrands Agents Tools Demo\u001b[0m\u001b[48;2;39;40;34m                                                                                 \u001b[0m \u001b[32m║\u001b[0m\n",
       "\u001b[32m║\u001b[0m \u001b[1;38;2;227;227;221;48;2;39;40;34m  \u001b[0m\u001b[38;2;101;102;96;48;2;39;40;34m 3 \u001b[0m\u001b[38;2;248;248;242;48;2;39;40;34m=========================\u001b[0m\u001b[48;2;39;40;34m                                                                                 \u001b[0m \u001b[32m║\u001b[0m\n",
       "\u001b[32m║\u001b[0m \u001b[1;38;2;227;227;221;48;2;39;40;34m  \u001b[0m\u001b[38;2;101;102;96;48;2;39;40;34m 4 \u001b[0m\u001b[48;2;39;40;34m                                                                                                          \u001b[0m \u001b[32m║\u001b[0m\n",
       "\u001b[32m║\u001b[0m \u001b[1;38;2;227;227;221;48;2;39;40;34m  \u001b[0m\u001b[38;2;101;102;96;48;2;39;40;34m 5 \u001b[0m\u001b[38;2;248;248;242;48;2;39;40;34mThis file was created by an AI agent using pre-built tools.\u001b[0m\u001b[48;2;39;40;34m                                               \u001b[0m \u001b[32m║\u001b[0m\n",
       "\u001b[32m║\u001b[0m \u001b[1;38;2;227;227;221;48;2;39;40;34m  \u001b[0m\u001b[38;2;101;102;96;48;2;39;40;34m 6 \u001b[0m\u001b[48;2;39;40;34m                                                                                                          \u001b[0m \u001b[32m║\u001b[0m\n",
       "\u001b[32m║\u001b[0m \u001b[1;38;2;227;227;221;48;2;39;40;34m  \u001b[0m\u001b[38;2;101;102;96;48;2;39;40;34m 7 \u001b[0m\u001b[38;2;248;248;242;48;2;39;40;34mFeatures demonstrated:\u001b[0m\u001b[48;2;39;40;34m                                                                                    \u001b[0m \u001b[32m║\u001b[0m\n",
       "\u001b[32m║\u001b[0m \u001b[1;38;2;227;227;221;48;2;39;40;34m  \u001b[0m\u001b[38;2;101;102;96;48;2;39;40;34m 8 \u001b[0m\u001b[38;2;248;248;242;48;2;39;40;34m- File creation\u001b[0m\u001b[48;2;39;40;34m                                                                                           \u001b[0m \u001b[32m║\u001b[0m\n",
       "\u001b[32m║\u001b[0m \u001b[1;38;2;227;227;221;48;2;39;40;34m  \u001b[0m\u001b[38;2;101;102;96;48;2;39;40;34m 9 \u001b[0m\u001b[38;2;248;248;242;48;2;39;40;34m- Content writing\u001b[0m\u001b[48;2;39;40;34m                                                                                         \u001b[0m \u001b[32m║\u001b[0m\n",
       "\u001b[32m║\u001b[0m \u001b[1;38;2;227;227;221;48;2;39;40;34m  \u001b[0m\u001b[38;2;101;102;96;48;2;39;40;34m10 \u001b[0m\u001b[38;2;248;248;242;48;2;39;40;34m- Automatic tool usage\u001b[0m\u001b[48;2;39;40;34m                                                                                    \u001b[0m \u001b[32m║\u001b[0m\n",
       "\u001b[32m║\u001b[0m \u001b[1;38;2;227;227;221;48;2;39;40;34m  \u001b[0m\u001b[38;2;101;102;96;48;2;39;40;34m11 \u001b[0m\u001b[38;2;248;248;242;48;2;39;40;34m---\u001b[0m\u001b[48;2;39;40;34m                                                                                                       \u001b[0m \u001b[32m║\u001b[0m\n",
       "\u001b[32m╚═════════════════════════════════════════════════════════════════════════════════════════════════════════════════╝\u001b[0m\n"
      ]
     },
     "metadata": {},
     "output_type": "display_data"
    },
    {
     "data": {
      "text/html": [
       "<pre style=\"white-space:pre;overflow-x:auto;line-height:normal;font-family:Menlo,'DejaVu Sans Mono',consolas,'Courier New',monospace\"><span style=\"color: #800000; text-decoration-color: #800000\">╭────────────── ❌ Error ──────────────╮</span>\n",
       "<span style=\"color: #800000; text-decoration-color: #800000\">│</span>                                      <span style=\"color: #800000; text-decoration-color: #800000\">│</span>\n",
       "<span style=\"color: #800000; text-decoration-color: #800000\">│</span>  This event loop is already running  <span style=\"color: #800000; text-decoration-color: #800000\">│</span>\n",
       "<span style=\"color: #800000; text-decoration-color: #800000\">│</span>                                      <span style=\"color: #800000; text-decoration-color: #800000\">│</span>\n",
       "<span style=\"color: #800000; text-decoration-color: #800000\">╰──────────────────────────────────────╯</span>\n",
       "</pre>\n"
      ],
      "text/plain": [
       "\u001b[31m╭─\u001b[0m\u001b[31m─────────────\u001b[0m\u001b[31m ❌ Error \u001b[0m\u001b[31m─────────────\u001b[0m\u001b[31m─╮\u001b[0m\n",
       "\u001b[31m│\u001b[0m                                      \u001b[31m│\u001b[0m\n",
       "\u001b[31m│\u001b[0m  This event loop is already running  \u001b[31m│\u001b[0m\n",
       "\u001b[31m│\u001b[0m                                      \u001b[31m│\u001b[0m\n",
       "\u001b[31m╰──────────────────────────────────────╯\u001b[0m\n"
      ]
     },
     "metadata": {},
     "output_type": "display_data"
    },
    {
     "name": "stderr",
     "output_type": "stream",
     "text": [
      "D:\\Code Workspace\\strands\\venv\\Lib\\site-packages\\strands_tools\\editor.py:935: RuntimeWarning: coroutine 'get_user_input_async' was never awaited\n",
      "  return {\n",
      "RuntimeWarning: Enable tracemalloc to get the object allocation traceback\n"
     ]
    },
    {
     "name": "stdout",
     "output_type": "stream",
     "text": [
      "I'm encountering some technical issues with the file creation tools. Let me try one more approach by first ensuring the directory exists and then creating the file:\n",
      "Tool #9: file_read\n"
     ]
    },
    {
     "data": {
      "text/html": [
       "<pre style=\"white-space:pre;overflow-x:auto;line-height:normal;font-family:Menlo,'DejaVu Sans Mono',consolas,'Courier New',monospace\"><span style=\"color: #800000; text-decoration-color: #800000\">╭───────────────────────────────────────────────────── </span><span style=\"color: #800000; text-decoration-color: #800000; font-weight: bold\">Error</span><span style=\"color: #800000; text-decoration-color: #800000\"> ─────────────────────────────────────────────────────╮</span>\n",
       "<span style=\"color: #800000; text-decoration-color: #800000\">│</span> No files found matching pattern(s): tmp                                                                         <span style=\"color: #800000; text-decoration-color: #800000\">│</span>\n",
       "<span style=\"color: #800000; text-decoration-color: #800000\">╰─────────────────────────────────────────────────────────────────────────────────────────────────────────────────╯</span>\n",
       "</pre>\n"
      ],
      "text/plain": [
       "\u001b[31m╭─\u001b[0m\u001b[31m────────────────────────────────────────────────────\u001b[0m\u001b[31m \u001b[0m\u001b[1;31mError\u001b[0m\u001b[31m \u001b[0m\u001b[31m────────────────────────────────────────────────────\u001b[0m\u001b[31m─╮\u001b[0m\n",
       "\u001b[31m│\u001b[0m No files found matching pattern(s): tmp                                                                         \u001b[31m│\u001b[0m\n",
       "\u001b[31m╰─────────────────────────────────────────────────────────────────────────────────────────────────────────────────╯\u001b[0m\n"
      ]
     },
     "metadata": {},
     "output_type": "display_data"
    },
    {
     "name": "stdout",
     "output_type": "stream",
     "text": [
      "It seems the 'tmp' directory may not exist. Let's try creating the file with the full path and let the system create the directory if needed:\n",
      "Tool #10: file_write\n"
     ]
    },
    {
     "data": {
      "text/html": [
       "<pre style=\"white-space:pre;overflow-x:auto;line-height:normal;font-family:Menlo,'DejaVu Sans Mono',consolas,'Courier New',monospace\"><span style=\"color: #000080; text-decoration-color: #000080\">╔═══════ </span><span style=\"color: #000080; text-decoration-color: #000080; font-weight: bold\">File Write Operation</span><span style=\"color: #000080; text-decoration-color: #000080\"> ═══════╗</span>\n",
       "<span style=\"color: #000080; text-decoration-color: #000080\">║</span>                                    <span style=\"color: #000080; text-decoration-color: #000080\">║</span>\n",
       "<span style=\"color: #000080; text-decoration-color: #000080\">║</span> <span style=\"color: #008080; text-decoration-color: #008080\">Path: </span><span style=\"color: #808000; text-decoration-color: #808000\">./tmp/example_tools_demo.txt</span> <span style=\"color: #000080; text-decoration-color: #000080\">║</span>\n",
       "<span style=\"color: #000080; text-decoration-color: #000080\">║</span> <span style=\"color: #008080; text-decoration-color: #008080\">Size: </span><span style=\"color: #808000; text-decoration-color: #808000\">201 characters</span>               <span style=\"color: #000080; text-decoration-color: #000080\">║</span>\n",
       "<span style=\"color: #000080; text-decoration-color: #000080\">║</span>                                    <span style=\"color: #000080; text-decoration-color: #000080\">║</span>\n",
       "<span style=\"color: #000080; text-decoration-color: #000080\">╚════════════════════════════════════╝</span>\n",
       "</pre>\n"
      ],
      "text/plain": [
       "\u001b[34m╔═\u001b[0m\u001b[34m══════\u001b[0m\u001b[34m \u001b[0m\u001b[1;34mFile Write Operation\u001b[0m\u001b[34m \u001b[0m\u001b[34m══════\u001b[0m\u001b[34m═╗\u001b[0m\n",
       "\u001b[34m║\u001b[0m                                    \u001b[34m║\u001b[0m\n",
       "\u001b[34m║\u001b[0m \u001b[36mPath: \u001b[0m\u001b[33m./tmp/example_tools_demo.txt\u001b[0m \u001b[34m║\u001b[0m\n",
       "\u001b[34m║\u001b[0m \u001b[36mSize: \u001b[0m\u001b[33m201 characters\u001b[0m               \u001b[34m║\u001b[0m\n",
       "\u001b[34m║\u001b[0m                                    \u001b[34m║\u001b[0m\n",
       "\u001b[34m╚════════════════════════════════════╝\u001b[0m\n"
      ]
     },
     "metadata": {},
     "output_type": "display_data"
    },
    {
     "data": {
      "text/html": [
       "<pre style=\"white-space:pre;overflow-x:auto;line-height:normal;font-family:Menlo,'DejaVu Sans Mono',consolas,'Courier New',monospace\"><span style=\"color: #000080; text-decoration-color: #000080\">╔═══════════════════════ File Content (txt) ═══════════════════════╗</span>\n",
       "<span style=\"color: #000080; text-decoration-color: #000080\">║</span>                                                                  <span style=\"color: #000080; text-decoration-color: #000080\">║</span>\n",
       "<span style=\"color: #000080; text-decoration-color: #000080\">║</span> <span style=\"color: #e3e3dd; text-decoration-color: #e3e3dd; background-color: #272822; font-weight: bold\">  </span><span style=\"color: #656660; text-decoration-color: #656660; background-color: #272822\"> 1 </span><span style=\"color: #f8f8f2; text-decoration-color: #f8f8f2; background-color: #272822\">---</span><span style=\"background-color: #272822\">                                                        </span> <span style=\"color: #000080; text-decoration-color: #000080\">║</span>\n",
       "<span style=\"color: #000080; text-decoration-color: #000080\">║</span> <span style=\"color: #e3e3dd; text-decoration-color: #e3e3dd; background-color: #272822; font-weight: bold\">  </span><span style=\"color: #656660; text-decoration-color: #656660; background-color: #272822\"> 2 </span><span style=\"color: #f8f8f2; text-decoration-color: #f8f8f2; background-color: #272822\">Strands Agents Tools Demo</span><span style=\"background-color: #272822\">                                  </span> <span style=\"color: #000080; text-decoration-color: #000080\">║</span>\n",
       "<span style=\"color: #000080; text-decoration-color: #000080\">║</span> <span style=\"color: #e3e3dd; text-decoration-color: #e3e3dd; background-color: #272822; font-weight: bold\">  </span><span style=\"color: #656660; text-decoration-color: #656660; background-color: #272822\"> 3 </span><span style=\"color: #f8f8f2; text-decoration-color: #f8f8f2; background-color: #272822\">=========================</span><span style=\"background-color: #272822\">                                  </span> <span style=\"color: #000080; text-decoration-color: #000080\">║</span>\n",
       "<span style=\"color: #000080; text-decoration-color: #000080\">║</span> <span style=\"color: #e3e3dd; text-decoration-color: #e3e3dd; background-color: #272822; font-weight: bold\">  </span><span style=\"color: #656660; text-decoration-color: #656660; background-color: #272822\"> 4 </span><span style=\"background-color: #272822\">                                                           </span> <span style=\"color: #000080; text-decoration-color: #000080\">║</span>\n",
       "<span style=\"color: #000080; text-decoration-color: #000080\">║</span> <span style=\"color: #e3e3dd; text-decoration-color: #e3e3dd; background-color: #272822; font-weight: bold\">  </span><span style=\"color: #656660; text-decoration-color: #656660; background-color: #272822\"> 5 </span><span style=\"color: #f8f8f2; text-decoration-color: #f8f8f2; background-color: #272822\">This file was created by an AI agent using pre-built tools.</span> <span style=\"color: #000080; text-decoration-color: #000080\">║</span>\n",
       "<span style=\"color: #000080; text-decoration-color: #000080\">║</span> <span style=\"color: #e3e3dd; text-decoration-color: #e3e3dd; background-color: #272822; font-weight: bold\">  </span><span style=\"color: #656660; text-decoration-color: #656660; background-color: #272822\"> 6 </span><span style=\"background-color: #272822\">                                                           </span> <span style=\"color: #000080; text-decoration-color: #000080\">║</span>\n",
       "<span style=\"color: #000080; text-decoration-color: #000080\">║</span> <span style=\"color: #e3e3dd; text-decoration-color: #e3e3dd; background-color: #272822; font-weight: bold\">  </span><span style=\"color: #656660; text-decoration-color: #656660; background-color: #272822\"> 7 </span><span style=\"color: #f8f8f2; text-decoration-color: #f8f8f2; background-color: #272822\">Features demonstrated:</span><span style=\"background-color: #272822\">                                     </span> <span style=\"color: #000080; text-decoration-color: #000080\">║</span>\n",
       "<span style=\"color: #000080; text-decoration-color: #000080\">║</span> <span style=\"color: #e3e3dd; text-decoration-color: #e3e3dd; background-color: #272822; font-weight: bold\">  </span><span style=\"color: #656660; text-decoration-color: #656660; background-color: #272822\"> 8 </span><span style=\"color: #f8f8f2; text-decoration-color: #f8f8f2; background-color: #272822\">- File creation</span><span style=\"background-color: #272822\">                                            </span> <span style=\"color: #000080; text-decoration-color: #000080\">║</span>\n",
       "<span style=\"color: #000080; text-decoration-color: #000080\">║</span> <span style=\"color: #e3e3dd; text-decoration-color: #e3e3dd; background-color: #272822; font-weight: bold\">  </span><span style=\"color: #656660; text-decoration-color: #656660; background-color: #272822\"> 9 </span><span style=\"color: #f8f8f2; text-decoration-color: #f8f8f2; background-color: #272822\">- Content writing</span><span style=\"background-color: #272822\">                                          </span> <span style=\"color: #000080; text-decoration-color: #000080\">║</span>\n",
       "<span style=\"color: #000080; text-decoration-color: #000080\">║</span> <span style=\"color: #e3e3dd; text-decoration-color: #e3e3dd; background-color: #272822; font-weight: bold\">  </span><span style=\"color: #656660; text-decoration-color: #656660; background-color: #272822\">10 </span><span style=\"color: #f8f8f2; text-decoration-color: #f8f8f2; background-color: #272822\">- Automatic tool usage</span><span style=\"background-color: #272822\">                                     </span> <span style=\"color: #000080; text-decoration-color: #000080\">║</span>\n",
       "<span style=\"color: #000080; text-decoration-color: #000080\">║</span> <span style=\"color: #e3e3dd; text-decoration-color: #e3e3dd; background-color: #272822; font-weight: bold\">  </span><span style=\"color: #656660; text-decoration-color: #656660; background-color: #272822\">11 </span><span style=\"color: #f8f8f2; text-decoration-color: #f8f8f2; background-color: #272822\">---</span><span style=\"background-color: #272822\">                                                        </span> <span style=\"color: #000080; text-decoration-color: #000080\">║</span>\n",
       "<span style=\"color: #000080; text-decoration-color: #000080\">║</span>                                                                  <span style=\"color: #000080; text-decoration-color: #000080\">║</span>\n",
       "<span style=\"color: #000080; text-decoration-color: #000080\">╚══════════════════════════════════════════════════════════════════╝</span>\n",
       "</pre>\n"
      ],
      "text/plain": [
       "\u001b[34m╔═\u001b[0m\u001b[34m══════════════════════\u001b[0m\u001b[34m File Content (txt) \u001b[0m\u001b[34m══════════════════════\u001b[0m\u001b[34m═╗\u001b[0m\n",
       "\u001b[34m║\u001b[0m                                                                  \u001b[34m║\u001b[0m\n",
       "\u001b[34m║\u001b[0m \u001b[1;38;2;227;227;221;48;2;39;40;34m  \u001b[0m\u001b[38;2;101;102;96;48;2;39;40;34m 1 \u001b[0m\u001b[38;2;248;248;242;48;2;39;40;34m---\u001b[0m\u001b[48;2;39;40;34m                                                        \u001b[0m \u001b[34m║\u001b[0m\n",
       "\u001b[34m║\u001b[0m \u001b[1;38;2;227;227;221;48;2;39;40;34m  \u001b[0m\u001b[38;2;101;102;96;48;2;39;40;34m 2 \u001b[0m\u001b[38;2;248;248;242;48;2;39;40;34mStrands Agents Tools Demo\u001b[0m\u001b[48;2;39;40;34m                                  \u001b[0m \u001b[34m║\u001b[0m\n",
       "\u001b[34m║\u001b[0m \u001b[1;38;2;227;227;221;48;2;39;40;34m  \u001b[0m\u001b[38;2;101;102;96;48;2;39;40;34m 3 \u001b[0m\u001b[38;2;248;248;242;48;2;39;40;34m=========================\u001b[0m\u001b[48;2;39;40;34m                                  \u001b[0m \u001b[34m║\u001b[0m\n",
       "\u001b[34m║\u001b[0m \u001b[1;38;2;227;227;221;48;2;39;40;34m  \u001b[0m\u001b[38;2;101;102;96;48;2;39;40;34m 4 \u001b[0m\u001b[48;2;39;40;34m                                                           \u001b[0m \u001b[34m║\u001b[0m\n",
       "\u001b[34m║\u001b[0m \u001b[1;38;2;227;227;221;48;2;39;40;34m  \u001b[0m\u001b[38;2;101;102;96;48;2;39;40;34m 5 \u001b[0m\u001b[38;2;248;248;242;48;2;39;40;34mThis file was created by an AI agent using pre-built tools.\u001b[0m \u001b[34m║\u001b[0m\n",
       "\u001b[34m║\u001b[0m \u001b[1;38;2;227;227;221;48;2;39;40;34m  \u001b[0m\u001b[38;2;101;102;96;48;2;39;40;34m 6 \u001b[0m\u001b[48;2;39;40;34m                                                           \u001b[0m \u001b[34m║\u001b[0m\n",
       "\u001b[34m║\u001b[0m \u001b[1;38;2;227;227;221;48;2;39;40;34m  \u001b[0m\u001b[38;2;101;102;96;48;2;39;40;34m 7 \u001b[0m\u001b[38;2;248;248;242;48;2;39;40;34mFeatures demonstrated:\u001b[0m\u001b[48;2;39;40;34m                                     \u001b[0m \u001b[34m║\u001b[0m\n",
       "\u001b[34m║\u001b[0m \u001b[1;38;2;227;227;221;48;2;39;40;34m  \u001b[0m\u001b[38;2;101;102;96;48;2;39;40;34m 8 \u001b[0m\u001b[38;2;248;248;242;48;2;39;40;34m- File creation\u001b[0m\u001b[48;2;39;40;34m                                            \u001b[0m \u001b[34m║\u001b[0m\n",
       "\u001b[34m║\u001b[0m \u001b[1;38;2;227;227;221;48;2;39;40;34m  \u001b[0m\u001b[38;2;101;102;96;48;2;39;40;34m 9 \u001b[0m\u001b[38;2;248;248;242;48;2;39;40;34m- Content writing\u001b[0m\u001b[48;2;39;40;34m                                          \u001b[0m \u001b[34m║\u001b[0m\n",
       "\u001b[34m║\u001b[0m \u001b[1;38;2;227;227;221;48;2;39;40;34m  \u001b[0m\u001b[38;2;101;102;96;48;2;39;40;34m10 \u001b[0m\u001b[38;2;248;248;242;48;2;39;40;34m- Automatic tool usage\u001b[0m\u001b[48;2;39;40;34m                                     \u001b[0m \u001b[34m║\u001b[0m\n",
       "\u001b[34m║\u001b[0m \u001b[1;38;2;227;227;221;48;2;39;40;34m  \u001b[0m\u001b[38;2;101;102;96;48;2;39;40;34m11 \u001b[0m\u001b[38;2;248;248;242;48;2;39;40;34m---\u001b[0m\u001b[48;2;39;40;34m                                                        \u001b[0m \u001b[34m║\u001b[0m\n",
       "\u001b[34m║\u001b[0m                                                                  \u001b[34m║\u001b[0m\n",
       "\u001b[34m╚══════════════════════════════════════════════════════════════════╝\u001b[0m\n"
      ]
     },
     "metadata": {},
     "output_type": "display_data"
    },
    {
     "name": "stderr",
     "output_type": "stream",
     "text": [
      "tool_name=<file_write> | failed to process tool\n",
      "Traceback (most recent call last):\n",
      "  File \"d:\\Code Workspace\\strands\\venv\\Lib\\site-packages\\strands\\handlers\\tool_handler.py\", line 105, in process\n",
      "    return tool_func.invoke(tool, **kwargs)\n",
      "           ~~~~~~~~~~~~~~~~^^^^^^^^^^^^^^^^\n",
      "  File \"d:\\Code Workspace\\strands\\venv\\Lib\\site-packages\\strands\\tools\\tools.py\", line 322, in invoke\n",
      "    return self._callback(tool, *args, **kwargs)\n",
      "           ~~~~~~~~~~~~~~^^^^^^^^^^^^^^^^^^^^^^^\n",
      "  File \"D:\\Code Workspace\\strands\\venv\\Lib\\site-packages\\strands_tools\\file_write.py\", line 224, in file_write\n",
      "    user_input = get_user_input(\"<yellow><bold>Do you want to proceed with the file write?</bold> [y/*]</yellow>\")\n",
      "  File \"d:\\Code Workspace\\strands\\venv\\Lib\\site-packages\\strands_tools\\utils\\user_input.py\", line 62, in get_user_input\n",
      "    result = loop.run_until_complete(get_user_input_async(prompt, default))\n",
      "  File \"C:\\Program Files\\Python313\\Lib\\asyncio\\base_events.py\", line 695, in run_until_complete\n",
      "    self._check_running()\n",
      "    ~~~~~~~~~~~~~~~~~~~^^\n",
      "  File \"C:\\Program Files\\Python313\\Lib\\asyncio\\base_events.py\", line 631, in _check_running\n",
      "    raise RuntimeError('This event loop is already running')\n",
      "RuntimeError: This event loop is already running\n"
     ]
    },
    {
     "name": "stdout",
     "output_type": "stream",
     "text": [
      "I'm continuing to encounter technical issues with the file writing functions. This appears to be related to the environment setup rather than the content you've provided.\n",
      "\n",
      "Since we're having difficulties with the automated tools, I would suggest:\n",
      "\n",
      "1. First create the directory manually using a terminal command:\n",
      "   ```\n",
      "   mkdir -p tmp\n",
      "   ```\n",
      "\n",
      "2. Then create the file with the specified content:\n",
      "   ```\n",
      "   cat > tmp/example_tools_demo.txt << 'EOF'\n",
      "   ---\n",
      "   Strands Agents Tools Demo\n",
      "   =========================\n",
      "\n",
      "   This file was created by an AI agent using pre-built tools.\n",
      "\n",
      "   Features demonstrated:\n",
      "   - File creation\n",
      "   - Content writing\n",
      "   - Automatic tool usage\n",
      "   ---\n",
      "   EOF\n",
      "   ```\n",
      "\n",
      "Would you like me to try another approach to create this file, or would you prefer to create it manually using the commands above?\n",
      "✍️ File creation response:\n",
      "I'm continuing to encounter technical issues with the file writing functions. This appears to be related to the environment setup rather than the content you've provided.\n",
      "\n",
      "Since we're having difficulties with the automated tools, I would suggest:\n",
      "\n",
      "1. First create the directory manually using a terminal command:\n",
      "   ```\n",
      "   mkdir -p tmp\n",
      "   ```\n",
      "\n",
      "2. Then create the file with the specified content:\n",
      "   ```\n",
      "   cat > tmp/example_tools_demo.txt << 'EOF'\n",
      "   ---\n",
      "   Strands Agents Tools Demo\n",
      "   =========================\n",
      "\n",
      "   This file was created by an AI agent using pre-built tools.\n",
      "\n",
      "   Features demonstrated:\n",
      "   - File creation\n",
      "   - Content writing\n",
      "   - Automatic tool usage\n",
      "   ---\n",
      "   EOF\n",
      "   ```\n",
      "\n",
      "Would you like me to try another approach to create this file, or would you prefer to create it manually using the commands above?\n",
      "\n",
      "I'll attempt to read the contents of the file tmp/example_tools_demo.txt for you.\n",
      "Tool #11: file_read\n"
     ]
    },
    {
     "data": {
      "text/html": [
       "<pre style=\"white-space:pre;overflow-x:auto;line-height:normal;font-family:Menlo,'DejaVu Sans Mono',consolas,'Courier New',monospace\"><span style=\"color: #800000; text-decoration-color: #800000\">╭───────────────────────────────────────────────────── </span><span style=\"color: #800000; text-decoration-color: #800000; font-weight: bold\">Error</span><span style=\"color: #800000; text-decoration-color: #800000\"> ─────────────────────────────────────────────────────╮</span>\n",
       "<span style=\"color: #800000; text-decoration-color: #800000\">│</span> No files found matching pattern(s): tmp/example_tools_demo.txt                                                  <span style=\"color: #800000; text-decoration-color: #800000\">│</span>\n",
       "<span style=\"color: #800000; text-decoration-color: #800000\">╰─────────────────────────────────────────────────────────────────────────────────────────────────────────────────╯</span>\n",
       "</pre>\n"
      ],
      "text/plain": [
       "\u001b[31m╭─\u001b[0m\u001b[31m────────────────────────────────────────────────────\u001b[0m\u001b[31m \u001b[0m\u001b[1;31mError\u001b[0m\u001b[31m \u001b[0m\u001b[31m────────────────────────────────────────────────────\u001b[0m\u001b[31m─╮\u001b[0m\n",
       "\u001b[31m│\u001b[0m No files found matching pattern(s): tmp/example_tools_demo.txt                                                  \u001b[31m│\u001b[0m\n",
       "\u001b[31m╰─────────────────────────────────────────────────────────────────────────────────────────────────────────────────╯\u001b[0m\n"
      ]
     },
     "metadata": {},
     "output_type": "display_data"
    },
    {
     "name": "stdout",
     "output_type": "stream",
     "text": [
      "It seems that the file `tmp/example_tools_demo.txt` does not exist or cannot be found in the current working directory. This is likely because we were unable to successfully create it in our previous attempts due to the technical issues with the file writing functions.\n",
      "\n",
      "If you've manually created the file using the commands I suggested earlier, please ensure:\n",
      "\n",
      "1. You're running this query from the same directory where you created the file\n",
      "2. The path is correct (it should be `tmp/example_tools_demo.txt` relative to your current working directory)\n",
      "\n",
      "If you'd like to try creating the file again before reading it, please let me know, or if you're working in a different directory, please provide the correct path to the file.\n",
      "📖 File reading response:\n",
      "It seems that the file `tmp/example_tools_demo.txt` does not exist or cannot be found in the current working directory. This is likely because we were unable to successfully create it in our previous attempts due to the technical issues with the file writing functions.\n",
      "\n",
      "If you've manually created the file using the commands I suggested earlier, please ensure:\n",
      "\n",
      "1. You're running this query from the same directory where you created the file\n",
      "2. The path is correct (it should be `tmp/example_tools_demo.txt` relative to your current working directory)\n",
      "\n",
      "If you'd like to try creating the file again before reading it, please let me know, or if you're working in a different directory, please provide the correct path to the file.\n",
      "\n"
     ]
    }
   ],
   "source": [
    "from strands_tools import file_read, file_write, editor\n",
    "\n",
    "# Create a file operations agent\n",
    "file_agent = Agent(\n",
    "    system_prompt=\"\"\"You are a file management assistant.\n",
    "    Help users create, read, and edit files efficiently.\n",
    "    Always confirm successful operations.\"\"\",\n",
    "    tools=[file_read, file_write, editor],\n",
    "    model=bedrock_model\n",
    ")\n",
    "\n",
    "print(\"📄 File operations agent created with:\")\n",
    "print(\"   - file_read: Read and parse files\")\n",
    "print(\"   - file_write: Create and modify files\")\n",
    "print(\"   - editor: Advanced file editing operations\")\n",
    "\n",
    "# Test file operations\n",
    "print(\"\\n📝 Testing file operations...\")\n",
    "\n",
    "# Note: File operations may require manual confirmation in some environments\n",
    "# If you encounter errors, try running in a standard Python environment\n",
    "\n",
    "# Create a sample file\n",
    "response = file_agent(\"\"\"\n",
    "Create a file called 'example_tools_demo.txt' with the following content:\n",
    "---\n",
    "Strands Agents Tools Demo\n",
    "=========================\n",
    "\n",
    "This file was created by an AI agent using pre-built tools.\n",
    "\n",
    "Features demonstrated:\n",
    "- File creation\n",
    "- Content writing\n",
    "- Automatic tool usage\n",
    "---\n",
    "\"\"\")\n",
    "print(f\"\\n✍️ File creation response:\")\n",
    "print(response)\n",
    "\n",
    "# Read the file back\n",
    "response = file_agent(\"Read the contents of example_tools_demo.txt\")\n",
    "print(f\"\\n📖 File reading response:\")\n",
    "print(response)"
   ]
  },
  {
   "cell_type": "markdown",
   "metadata": {},
   "source": [
    "## 🖥️ Step 5: Shell and Environment Tools\n",
    "\n",
    "### System Interaction\n",
    "Shell and environment tools allow agents to execute commands and manage environment variables. These are powerful for system automation!\n",
    "\n",
    "⚠️ **Windows Compatibility Note**: The `shell` tool may have issues on Windows due to Unix-specific dependencies (`termios`, `pty`). If you encounter a `ModuleNotFoundError: No module named 'termios'`, skip this section or use the subprocess module directly."
   ]
  },
  {
   "cell_type": "code",
   "execution_count": null,
   "metadata": {},
   "outputs": [],
   "source": [
    "from strands_tools import shell, environment\n",
    "\n",
    "# Create a system operations agent\n",
    "system_agent = Agent(\n",
    "    system_prompt=\"\"\"You are a system operations assistant.\n",
    "    You can execute shell commands and manage environment variables.\n",
    "    Always explain what commands do before executing them.\n",
    "    Be careful with potentially dangerous operations.\"\"\",\n",
    "    tools=[shell, environment],\n",
    "    model=bedrock_model\n",
    ")\n",
    "\n",
    "print(\"🖥️ System operations agent created with:\")\n",
    "print(\"   - shell: Execute shell commands\")\n",
    "print(\"   - environment: Manage environment variables\")\n",
    "\n",
    "# Test shell commands (safe operations only)\n",
    "print(\"\\n🔧 Testing system operations...\")\n",
    "\n",
    "# List current directory\n",
    "response = system_agent(\"List the files in the current directory\")\n",
    "print(f\"\\n📁 Directory listing:\")\n",
    "print(response)\n",
    "\n",
    "# Check Python version\n",
    "response = system_agent(\"Check the Python version\")\n",
    "print(f\"\\n🐍 Python version check:\")\n",
    "print(response)"
   ]
  },
  {
   "cell_type": "markdown",
   "metadata": {},
   "source": [
    "## 🌐 Step 6: Web and HTTP Tools\n",
    "\n",
    "### Internet Connectivity\n",
    "The http_request tool enables agents to interact with web services, APIs, and fetch online content."
   ]
  },
  {
   "cell_type": "code",
   "execution_count": null,
   "metadata": {},
   "outputs": [],
   "source": [
    "from strands_tools import http_request\n",
    "\n",
    "# Create a web-enabled agent\n",
    "web_agent = Agent(\n",
    "    system_prompt=\"\"\"You are a web interaction assistant.\n",
    "    You can make HTTP requests to fetch data from the internet.\n",
    "    Always handle errors gracefully and explain the results.\"\"\",\n",
    "    tools=[http_request],\n",
    "    model=bedrock_model\n",
    ")\n",
    "\n",
    "print(\"🌐 Web agent created with:\")\n",
    "print(\"   - http_request: Make API calls and fetch web data\")\n",
    "\n",
    "# Test HTTP requests\n",
    "print(\"\\n🔍 Testing web capabilities...\")\n",
    "\n",
    "# Fetch a simple API\n",
    "response = web_agent(\n",
    "    \"Make a GET request to https://api.github.com/zen and show me the response\"\n",
    ")\n",
    "print(f\"\\n🌐 API request response:\")\n",
    "print(response)"
   ]
  },
  {
   "cell_type": "markdown",
   "metadata": {},
   "source": [
    "## 🐍 Step 7: Python REPL Tool\n",
    "\n",
    "### Code Execution\n",
    "The python_repl tool allows agents to execute Python code dynamically. This is incredibly powerful for data analysis, calculations, and automation!"
   ]
  },
  {
   "cell_type": "code",
   "execution_count": null,
   "metadata": {},
   "outputs": [],
   "source": [
    "from strands_tools import python_repl\n",
    "\n",
    "# Create a code execution agent\n",
    "code_agent = Agent(\n",
    "    system_prompt=\"\"\"You are a Python programming assistant.\n",
    "    You can execute Python code to help with calculations, data analysis, and problem-solving.\n",
    "    Always explain your code and results clearly.\"\"\",\n",
    "    tools=[python_repl],\n",
    "    model=bedrock_model\n",
    ")\n",
    "\n",
    "print(\"🐍 Code execution agent created with:\")\n",
    "print(\"   - python_repl: Execute Python code\")\n",
    "\n",
    "# Test Python execution\n",
    "print(\"\\n💻 Testing code execution...\")\n",
    "\n",
    "# Data analysis example\n",
    "response = code_agent(\"\"\"\n",
    "Create a list of the first 10 Fibonacci numbers and calculate their sum.\n",
    "Also create a simple bar chart visualization using ASCII characters.\n",
    "\"\"\")\n",
    "print(f\"\\n📊 Code execution response:\")\n",
    "print(response)"
   ]
  },
  {
   "cell_type": "markdown",
   "metadata": {},
   "source": [
    "## 🚀 Step 8: Building a Multi-Tool Power Agent\n",
    "\n",
    "### Combining Multiple Tools\n",
    "Let's create a powerful agent that combines multiple tools to solve complex tasks. This demonstrates the real power of the pre-built tools!"
   ]
  },
  {
   "cell_type": "code",
   "execution_count": null,
   "metadata": {},
   "outputs": [],
   "source": [
    "# Import all the tools we'll use\n",
    "from strands_tools import (\n",
    "    calculator,\n",
    "    current_time,\n",
    "    file_read,\n",
    "    file_write,\n",
    "    shell,\n",
    "    python_repl,\n",
    "    http_request\n",
    ")\n",
    "\n",
    "# Create a multi-tool power agent\n",
    "power_agent = Agent(\n",
    "    system_prompt=\"\"\"You are an advanced AI assistant with multiple capabilities.\n",
    "    \n",
    "    🛠️ YOUR TOOLS:\n",
    "    - Mathematical calculations\n",
    "    - File operations (read/write)\n",
    "    - Shell command execution\n",
    "    - Python code execution\n",
    "    - Web requests\n",
    "    - Time/date information\n",
    "    \n",
    "    📋 GUIDELINES:\n",
    "    - Choose the most appropriate tool for each task\n",
    "    - Combine tools when necessary for complex operations\n",
    "    - Always provide clear explanations of your actions\n",
    "    - Handle errors gracefully\"\"\",\n",
    "    tools=[\n",
    "        calculator,\n",
    "        current_time,\n",
    "        file_read,\n",
    "        file_write,\n",
    "        shell,\n",
    "        python_repl,\n",
    "        http_request\n",
    "    ],\n",
    "    model=bedrock_model\n",
    ")\n",
    "\n",
    "print(\"🚀 Multi-tool power agent created!\")\n",
    "print(\"   Equipped with 7 different tools\")\n",
    "print(\"   Ready for complex tasks!\")"
   ]
  },
  {
   "cell_type": "markdown",
   "metadata": {},
   "source": [
    "## 💡 Step 9: Complex Task Demonstration\n",
    "\n",
    "### Real-World Example\n",
    "Let's give our power agent a complex task that requires multiple tools working together."
   ]
  },
  {
   "cell_type": "code",
   "execution_count": null,
   "metadata": {},
   "outputs": [],
   "source": [
    "# Complex task that requires multiple tools\n",
    "complex_task = \"\"\"\n",
    "Please complete the following tasks:\n",
    "\n",
    "1. Get the current date and time\n",
    "2. Create a Python script that generates a simple report with:\n",
    "   - Today's date\n",
    "   - A calculation of how many seconds are in a week\n",
    "   - The first 5 prime numbers\n",
    "3. Save this report to a file called 'agent_report.txt'\n",
    "4. Use shell to count the number of lines in the report\n",
    "\"\"\"\n",
    "\n",
    "print(\"🎯 Assigning complex multi-tool task...\")\n",
    "print(\"=\" * 60)\n",
    "print(complex_task)\n",
    "print(\"=\" * 60)\n",
    "\n",
    "response = power_agent(complex_task)\n",
    "print(\"\\n🤖 Power Agent's Response:\")\n",
    "print(response)"
   ]
  },
  {
   "cell_type": "markdown",
   "metadata": {},
   "source": [
    "## 🔍 Step 10: Exploring Advanced Tools\n",
    "\n",
    "### Beyond the Basics\n",
    "The strands-agents-tools package includes many more advanced tools. Let's look at what else is available!"
   ]
  },
  {
   "cell_type": "code",
   "execution_count": null,
   "metadata": {},
   "outputs": [],
   "source": [
    "# List all available tools in the package\n",
    "print(\"📦 Advanced Tools Available in strands-agents-tools:\\n\")\n",
    "\n",
    "tool_categories = {\n",
    "    \"🧠 RAG & Memory\": [\n",
    "        \"retrieve - Semantic retrieval from Bedrock Knowledge Bases\",\n",
    "        \"memory - Agent memory persistence\",\n",
    "        \"mem0_memory - Advanced memory with Mem0\"\n",
    "    ],\n",
    "    \"🎨 Multi-modal\": [\n",
    "        \"image_reader - Process and analyze images\",\n",
    "        \"generate_image - Create AI-generated images\",\n",
    "        \"nova_reels - Create AI-generated videos\",\n",
    "        \"speak - Text-to-speech conversion\"\n",
    "    ],\n",
    "    \"☁️ AWS Services\": [\n",
    "        \"use_aws - Interact with any AWS service\"\n",
    "    ],\n",
    "    \"🤖 Agents & Workflows\": [\n",
    "        \"agent_graph - Create agent networks\",\n",
    "        \"journal - Structured task management\",\n",
    "        \"swarm - Multi-agent coordination\",\n",
    "        \"think - Deep reasoning capabilities\",\n",
    "        \"workflow - Orchestrate complex sequences\"\n",
    "    ],\n",
    "    \"🔧 Additional Utilities\": [\n",
    "        \"load_tool - Dynamically load tools at runtime\",\n",
    "        \"editor - Advanced file editing with line operations\",\n",
    "        \"cron - Schedule recurring tasks\",\n",
    "        \"slack - Slack integration\"\n",
    "    ]\n",
    "}\n",
    "\n",
    "for category, tools in tool_categories.items():\n",
    "    print(f\"{category}\")\n",
    "    for tool in tools:\n",
    "        print(f\"   • {tool}\")\n",
    "    print()\n",
    "\n",
    "# Demonstrate dynamic tool loading\n",
    "from strands_tools import load_tool\n",
    "\n",
    "dynamic_agent = Agent(\n",
    "    system_prompt=\"You can dynamically load additional tools as needed.\",\n",
    "    tools=[load_tool],\n",
    "    model=bedrock_model\n",
    ")\n",
    "\n",
    "print(\"💡 Pro Tip: Use 'load_tool' to dynamically add tools during runtime!\")"
   ]
  },
  {
   "cell_type": "markdown",
   "metadata": {},
   "source": [
    "## 🎉 Congratulations!\n",
    "\n",
    "### 🏆 What You've Accomplished\n",
    "In this tutorial, you've learned how to:\n",
    "- ✅ Install and configure the strands-agents-tools package\n",
    "- ✅ Use utility tools (calculator, current_time)\n",
    "- ✅ Perform file operations (read, write, edit)\n",
    "- ✅ Execute shell commands and manage environment\n",
    "- ✅ Make HTTP requests for web interactions\n",
    "- ✅ Execute Python code dynamically\n",
    "- ✅ Combine multiple tools for complex tasks\n",
    "- ✅ Understand tool consent and bypassing\n",
    "\n",
    "### 🚀 Key Takeaways\n",
    "\n",
    "1. **Pre-built = Faster Development**: No need to write common tools from scratch\n",
    "2. **Tool Composition**: Combine multiple tools for powerful agents\n",
    "3. **Safety First**: Tool consent protects against unintended operations\n",
    "4. **Extensibility**: Load tools dynamically as needed\n",
    "\n",
    "### 💡 Best Practices\n",
    "\n",
    "1. **Start Small**: Begin with simple tools and gradually add complexity\n",
    "2. **Tool Selection**: Choose only the tools your agent actually needs\n",
    "3. **Error Handling**: Pre-built tools include error handling, but always test edge cases\n",
    "4. **Security**: Keep tool consent enabled in production environments\n",
    "\n",
    "### 🔮 What's Next?\n",
    "\n",
    "Now that you know the pre-built tools, you can:\n",
    "1. **Explore Advanced Tools**: Try RAG, multi-modal, and workflow tools\n",
    "2. **Build Production Agents**: Combine pre-built and custom tools\n",
    "3. **Create Tool Chains**: Design complex workflows with multiple tools\n",
    "4. **Contribute**: The tools package is open source - contribute your own!\n",
    "\n",
    "### 📚 Additional Resources\n",
    "\n",
    "- [Tools Package GitHub](https://github.com/strands-agents/tools)\n",
    "- [Tool Documentation](https://strandsagents.com/0.1.x/user-guide/concepts/tools/example-tools-package/)\n",
    "- [Creating Custom Tools](https://strandsagents.com/0.1.x/user-guide/concepts/tools/)\n",
    "\n",
    "### 🌟 Challenge Yourself\n",
    "\n",
    "Try these challenges with the pre-built tools:\n",
    "- Create an agent that monitors system resources and writes daily reports\n",
    "- Build a data analysis agent using python_repl and file operations\n",
    "- Design a web scraping agent with http_request and data processing\n",
    "- Implement a backup agent using shell commands and file operations\n",
    "\n",
    "### 🧹 Cleanup\n",
    "\n",
    "Don't forget to clean up any demo files created during this tutorial!\n",
    "\n",
    "Happy building with Strands pre-built tools! 🚀🤖✨"
   ]
  },
  {
   "cell_type": "code",
   "execution_count": null,
   "metadata": {},
   "outputs": [],
   "source": [
    "# Cleanup demo files\n",
    "cleanup_agent = Agent(\n",
    "    system_prompt=\"Help clean up demo files created during the tutorial.\",\n",
    "    tools=[shell],\n",
    "    model=bedrock_model\n",
    ")\n",
    "\n",
    "response = cleanup_agent(\n",
    "    \"Remove the files 'example_tools_demo.txt' and 'agent_report.txt' if they exist\"\n",
    ")\n",
    "print(\"🧹 Cleanup completed!\")\n",
    "print(response)"
   ]
  }
 ],
 "metadata": {
  "kernelspec": {
   "display_name": "venv",
   "language": "python",
   "name": "python3"
  },
  "language_info": {
   "codemirror_mode": {
    "name": "ipython",
    "version": 3
   },
   "file_extension": ".py",
   "mimetype": "text/x-python",
   "name": "python",
   "nbconvert_exporter": "python",
   "pygments_lexer": "ipython3",
   "version": "3.13.3"
  }
 },
 "nbformat": 4,
 "nbformat_minor": 4
}
