{
 "cells": [
  {
   "cell_type": "markdown",
   "metadata": {},
   "source": [
    "# Google Search Tool with Strands Agents SDK by Markus Bestehorn (bestem@amazon.com)\n",
    "\n",
    "This notebook demonstrates how to create a Google search tool for the Strands Agents SDK and implement an agent that uses it to answer questions requiring web search.\n",
    "\n",
    "## Prerequisites\n",
    "\n",
    "- Google Custom Search API key stored in `google-api-key.txt`\n",
    "- Google Custom Search Engine ID (we'll use a programmable search engine)\n",
    "- Strands Agents SDK installed\n",
    "- AWS credentials configured for Bedrock\n",
    "\n",
    "For the Custom Search API Key and the Engine ID, there are dedicated sections below on how to obtain them. Using AWS credentials for Bedrock with Strands Agents and which permissions are required for accessing Bedrock is outlined [here](https://strandsagents.com/0.1.x/user-guide/concepts/model-providers/amazon-bedrock/).\n",
    "\n",
    "### Getting a Custom Search Engine API Key\n",
    "For the Google Customer Search Engine (CSE) API Key, you need a Google account, e.g., an account with Gmail. You can create such an account by clicking [here](https://accounts.google.com/signin) and selecting \"Create Account\". If you already have an account or after creating one, log-in to this account and then:\n",
    "\n",
    " - browse to the URL \"[https://developers.google.com/custom-search/v1/introduction](https://developers.google.com/custom-search/v1/introduction)\"\n",
    " - There is a button in the middle of the screen labeled \"Get a Key\". Click the button.\n",
    " - Enter a Project name, e.g., \"StarndsGoogleSearchTool\".\n",
    " - The site will take a few seconds to generate a key. Click the \"Show Key\" button and copy the API key to the clipboard.\n",
    " - Open a text editor and create new file. Paste the API key from the clipboard to the file. Save the file on your harddrive.\n",
    " - Note down the location/path and name of the file and enter it in the cell below."
   ]
  },
  {
   "cell_type": "code",
   "execution_count": null,
   "metadata": {},
   "outputs": [],
   "source": [
    "## Paste the full path of the file that contains your Google API Key into the below line\n",
    "GOOGLE_API_KEY_FILE = \"./google-api-key.txt\""
   ]
  },
  {
   "cell_type": "markdown",
   "metadata": {},
   "source": [
    "**Important**: I have deliberately moved this key to a separate file instead of having it directly in the notebook. Credentials such as this API should not be stored directly in notebooks to avoid the chance of such credentials being accidentally stored in code repositories. If you choose to store the API Key in a file that is in the repository for this notebook, make sure the file is in the .gitignore file.\n",
    "\n",
    "### Creating a Custom Search Engine ID\n",
    "Next you need a custom search engine (CSE) ID. The CSE ID is used to customize your searches. In our case, we will stick to text-only results, but this would be a way to further customize the search that the agent can use or modify the results. For instance, you could expand the searches to images as well by including images or restrict the search to specific websites (e.g., wikipedia only), but for this simple example, we will stick to a very standard setup. To complete this part of the setup, execute the following steps:\n",
    "\n",
    " - if you are not logged into your Google account, please do so as described above.\n",
    " - Open the URL \"[https://programmablesearchengine.google.com/controlpanel/create](https://programmablesearchengine.google.com/controlpanel/create)\" in your browser\n",
    " - Select the option to search the whole web and keep everything else as it is.\n",
    " - Confirm that you are not a robot\n",
    " - Click \"Create\" at the bottom\n",
    " - After a few seconds, there will be a confirmation page that your CSE has been created. The page also displays a code snippet that outlines how to integrate your CSE into your web page, but this is not what we want.\n",
    " - On the left-hand menu, there is an option to go back to all of your CSEs, alternatively, you can also just click on this link: [https://programmablesearchengine.google.com/controlpanel/all](https://programmablesearchengine.google.com/controlpanel/all)\n",
    " - Your new CSE should be shown here. Click on it and there is an entry \"Search Engine ID\". Copy this ID to your clipboard.\n",
    " - Open a text editor and create a new file. Paste the Search Engine ID into this file. Save the file to your harddrive.\n",
    " - Note down the location/path and name of the file and enter it in the cell below.\n",
    "\n",
    "The CSE ID will be loaded from this file below."
   ]
  },
  {
   "cell_type": "code",
   "execution_count": null,
   "metadata": {},
   "outputs": [],
   "source": [
    "SEARCH_ENGINE_ID_FILE = \"./google-search_engine-id.txt\""
   ]
  },
  {
   "cell_type": "markdown",
   "metadata": {},
   "source": [
    "## 1. Install Required Dependencies\n",
    "This demo has a few dependencies. The cell below only needs to be executed once for every environment where this notebook is executed. It install the dependencies as needed."
   ]
  },
  {
   "cell_type": "code",
   "execution_count": null,
   "metadata": {},
   "outputs": [],
   "source": [
    "# Install required packages\n",
    "!pip install strands-agents strands-agents-tools strands-agents-builder google-api-python-client -q"
   ]
  },
  {
   "cell_type": "markdown",
   "metadata": {},
   "source": [
    "## 2. Import Required Libraries and Setup"
   ]
  },
  {
   "cell_type": "code",
   "execution_count": null,
   "metadata": {},
   "outputs": [],
   "source": [
    "import boto3\n",
    "import os\n",
    "from googleapiclient.discovery import build\n",
    "from strands import Agent, tool\n",
    "from strands.models import BedrockModel\n",
    "import json\n",
    "from typing import List, Dict"
   ]
  },
  {
   "cell_type": "markdown",
   "metadata": {},
   "source": [
    "## 3. Load Google API Key and Setup"
   ]
  },
  {
   "cell_type": "code",
   "execution_count": null,
   "metadata": {},
   "outputs": [],
   "source": [
    "# Load Google API key from file\n",
    "try:\n",
    "    with open(GOOGLE_API_KEY_FILE, 'r') as f:\n",
    "        google_api_key = f.read().strip()\n",
    "    print(\"Google API key loaded successfully!\")\n",
    "except FileNotFoundError:\n",
    "    print(f\"Error: {GOOGLE_API_KEY_FILE} file not found. Please create this file as described above.\")\n",
    "    google_api_key = None\n",
    "\n",
    "# Load Google API key from file\n",
    "try:\n",
    "    with open(SEARCH_ENGINE_ID_FILE, 'r') as f:\n",
    "        search_engine_id = f.read().strip()\n",
    "    print(\"Search Engine ID loaded successfully!\")\n",
    "except FileNotFoundError:\n",
    "    print(f\"Error: {SEARCH_ENGINE_ID_FILE} file not found. Please create this file as described above.\")\n",
    "    search_engine_id = None"
   ]
  },
  {
   "cell_type": "markdown",
   "metadata": {},
   "source": [
    "## 4. Setup AWS Bedrock Model\n",
    "Next we define how we will use Bedrock. If you want to use a different AWS CLI Profile name than the one shown here, change the corde accoridingly."
   ]
  },
  {
   "cell_type": "code",
   "execution_count": null,
   "metadata": {},
   "outputs": [],
   "source": [
    "# Setup AWS session and Bedrock model\n",
    "session = boto3.Session(\n",
    "    profile_name='default'  # Optional: Use a specific profile\n",
    ")\n",
    "\n",
    "# Create a Bedrock model with the custom session\n",
    "bedrock_model = BedrockModel(\n",
    "    model_id=\"us.anthropic.claude-3-7-sonnet-20250219-v1:0\",\n",
    "    boto_session=session\n",
    ")\n",
    "\n",
    "print(\"Bedrock model configured successfully!\")"
   ]
  },
  {
   "cell_type": "markdown",
   "metadata": {},
   "source": [
    "## 5. Create Google Search Tool"
   ]
  },
  {
   "cell_type": "code",
   "execution_count": null,
   "metadata": {},
   "outputs": [],
   "source": [
    "@tool\n",
    "def google_search(query: str, num_results: int = 3) -> str:\n",
    "    \"\"\"\n",
    "    Search Google and return top results with titles, URLs, and snippets.\n",
    "    \n",
    "    Args:\n",
    "        query: The search query string\n",
    "        num_results: Number of results to return (default: 3, max: 10)\n",
    "    \n",
    "    Returns:\n",
    "        Formatted string with search results including titles, URLs, and descriptions\n",
    "    \"\"\"\n",
    "    if not google_api_key:\n",
    "        return f\"Error: Google API key not available. Please check {GOOGLE_API_KEY_FILE} file.\"\n",
    "\n",
    "    if not search_engine_id:\n",
    "        return f\"Error: Search Engine ID not available. Please check {SEARCH_ENGINE_ID_FILE} file.\"\n",
    "    \n",
    "    try:\n",
    "        # Build the Custom Search service\n",
    "        service = build(\"customsearch\", \"v1\", developerKey=google_api_key)\n",
    "        \n",
    "        # Perform the search\n",
    "        result = service.cse().list(\n",
    "            q=query,\n",
    "            cx=search_engine_id,\n",
    "            num=min(num_results, 10)  # Google API allows max 10 results per request\n",
    "        ).execute()\n",
    "        \n",
    "        # Format the results\n",
    "        if 'items' not in result:\n",
    "            return f\"No search results found for query: '{query}'\"\n",
    "        \n",
    "        formatted_results = []\n",
    "        for i, item in enumerate(result['items'][:num_results], 1):\n",
    "            title = item.get('title', 'No title')\n",
    "            link = item.get('link', 'No URL')\n",
    "            snippet = item.get('snippet', 'No description available')\n",
    "            \n",
    "            formatted_result = f\"**Result {i}:**\\n\"\n",
    "            formatted_result += f\"Title: {title}\\n\"\n",
    "            formatted_result += f\"URL: {link}\\n\"\n",
    "            formatted_result += f\"Description: {snippet}\\n\"\n",
    "            \n",
    "            formatted_results.append(formatted_result)\n",
    "        \n",
    "        return \"\\n\".join(formatted_results)\n",
    "        \n",
    "    except Exception as e:\n",
    "        return f\"Error performing Google search: {str(e)}\"\n",
    "\n",
    "print(\"Google search tool created successfully!\")"
   ]
  },
  {
   "cell_type": "markdown",
   "metadata": {},
   "source": [
    "## 6. Test the Google Search Tool Directly"
   ]
  },
  {
   "cell_type": "code",
   "execution_count": null,
   "metadata": {},
   "outputs": [],
   "source": [
    "# Test the search tool directly\n",
    "test_query = \"artificial intelligence latest news 2024\"\n",
    "search_results = google_search(test_query)\n",
    "print(f\"Direct search test for: '{test_query}'\")\n",
    "print(\"=\" * 50)\n",
    "print(search_results)"
   ]
  },
  {
   "cell_type": "markdown",
   "metadata": {},
   "source": [
    "## 7. Create Agent with Google Search Tool"
   ]
  },
  {
   "cell_type": "code",
   "execution_count": null,
   "metadata": {},
   "outputs": [],
   "source": [
    "# Create an agent equipped with the Google search tool\n",
    "search_agent = Agent(\n",
    "    system_prompt=\"\"\"You are a helpful research assistant equipped with Google search capabilities. \n",
    "    When users ask questions that require current information, recent news, or facts that you might not know, \n",
    "    use the google_search tool to find relevant information. \n",
    "    Always cite your sources and provide URLs when presenting information from search results.\n",
    "    Be concise but informative in your responses.\"\"\",\n",
    "    tools=[google_search],\n",
    "    model=bedrock_model,\n",
    ")\n",
    "\n",
    "print(\"Search agent created successfully!\")"
   ]
  },
  {
   "cell_type": "markdown",
   "metadata": {},
   "source": [
    "## 8. Demo: Agent Using Google Search Tool"
   ]
  },
  {
   "cell_type": "code",
   "execution_count": null,
   "metadata": {},
   "outputs": [],
   "source": [
    "# Test questions that require web search\n",
    "test_questions = [\n",
    "    \"What are the latest developments in AI in 2024?\",\n",
    "    \"What is the current weather in London?\",\n",
    "    \"Who won the latest Nobel Prize in Physics?\"\n",
    "]\n",
    "\n",
    "for question in test_questions:\n",
    "    print(f\"\\n{'='*60}\")\n",
    "    print(f\"Question: {question}\")\n",
    "    print(f\"{'='*60}\")\n",
    "    \n",
    "    response = search_agent(question)\n",
    "    print(f\"Agent's response:\")\n",
    "    print(response)\n",
    "    print(\"\\n\")"
   ]
  },
  {
   "cell_type": "markdown",
   "metadata": {},
   "source": [
    "## 9. Advanced Example: Comparative Research"
   ]
  },
  {
   "cell_type": "code",
   "execution_count": null,
   "metadata": {},
   "outputs": [],
   "source": [
    "# Example of using the agent for comparative research\n",
    "research_question = \"Compare the latest iPhone vs Samsung Galaxy phones released in 2024\"\n",
    "\n",
    "print(f\"Research Question: {research_question}\")\n",
    "print(\"=\" * 70)\n",
    "\n",
    "response = search_agent(research_question)\n",
    "print(f\"Research Assistant's Response:\")\n",
    "print(response)"
   ]
  },
  {
   "cell_type": "markdown",
   "metadata": {},
   "source": [
    "## 10. Tool Performance Analysis"
   ]
  },
  {
   "cell_type": "code",
   "execution_count": null,
   "metadata": {},
   "outputs": [],
   "source": [
    "import time\n",
    "\n",
    "# Analyze the performance of our search tool\n",
    "def analyze_search_performance(query: str):\n",
    "    \"\"\"Analyze the performance of our Google search tool\"\"\"\n",
    "    print(f\"Analyzing performance for query: '{query}'\")\n",
    "    \n",
    "    # Test direct tool performance\n",
    "    start_time = time.time()\n",
    "    direct_result = google_search(query)\n",
    "    direct_time = time.time() - start_time\n",
    "    \n",
    "    # Test agent performance (includes AI processing)\n",
    "    start_time = time.time()\n",
    "    agent_result = search_agent(f\"Search for: {query}\")\n",
    "    agent_time = time.time() - start_time\n",
    "    \n",
    "    print(f\"\\nPerformance Results:\")\n",
    "    print(f\"Direct tool call: {direct_time:.2f} seconds\")\n",
    "    print(f\"Agent with tool: {agent_time:.2f} seconds\")\n",
    "    print(f\"AI processing overhead: {agent_time - direct_time:.2f} seconds\")\n",
    "    \n",
    "    return direct_time, agent_time\n",
    "\n",
    "# Run performance analysis\n",
    "analyze_search_performance(\"Python programming best practices\")"
   ]
  },
  {
   "cell_type": "markdown",
   "metadata": {},
   "source": [
    "## 12. Error Handling and Edge Cases"
   ]
  },
  {
   "cell_type": "code",
   "execution_count": null,
   "metadata": {},
   "outputs": [],
   "source": [
    "# Test error handling and edge cases\n",
    "edge_cases = [\n",
    "    \"\",  # Empty query\n",
    "    \"asdfghjklqwertyuiopzxcvbnm123456789\",  # Nonsensical query\n",
    "    \"site:nonexistentwebsite12345.com information\",  # No results expected\n",
    "]\n",
    "\n",
    "for case in edge_cases:\n",
    "    print(f\"\\nTesting edge case: '{case}'\")\n",
    "    print(\"-\" * 40)\n",
    "    \n",
    "    try:\n",
    "        if case:  # Only test non-empty strings with the agent\n",
    "            response = search_agent(f\"Please search for: {case}\")\n",
    "            print(f\"Agent handled gracefully: {response[:100]}...\")\n",
    "        else:\n",
    "            direct_response = google_search(case)\n",
    "            print(f\"Direct tool response: {direct_response}\")\n",
    "    except Exception as e:\n",
    "        print(f\"Error caught: {e}\")"
   ]
  },
  {
   "cell_type": "markdown",
   "metadata": {},
   "source": [
    "## Summary and Next Steps\n",
    "\n",
    "This notebook has demonstrated:\n",
    "\n",
    "1. **Google Search Tool Creation**: Built a custom `@tool` function that integrates with Google Custom Search API\n",
    "2. **Agent Integration**: Created an agent that can intelligently use the search tool\n",
    "3. **Real-world Testing**: Tested with various queries including current events and comparative research\n",
    "4. **Performance Analysis**: Measured tool and agent response times\n",
    "5. **Error Handling**: Demonstrated graceful handling of edge cases and errors\n",
    "\n",
    "### Key Features of Our Google Search Tool:\n",
    "- Returns top 3 search results by default (configurable)\n",
    "- Includes title, URL, and description for each result\n",
    "- Proper error handling for API failures\n",
    "- Type hints for proper parameter passing\n",
    "- Integration with Strands Agents SDK\n",
    "\n",
    "### Potential Enhancements:\n",
    "- Add support for different search types (images, news, etc.)\n",
    "- Implement caching to avoid duplicate API calls\n",
    "- Add filtering options (date range, site-specific searches)\n",
    "- Implement search result summarization\n",
    "- Add support for multiple search engines\n",
    "\n",
    "### Production Considerations:\n",
    "- API key security and rotation\n",
    "- Rate limiting and quota management\n",
    "- Result caching for performance\n",
    "- Monitoring and logging\n",
    "- Content filtering and safety checks\n",
    "\n",
    "Happy searching with your Strands Agent! 🔍🤖"
   ]
  }
 ],
 "metadata": {
  "kernelspec": {
   "display_name": "venv",
   "language": "python",
   "name": "python3"
  },
  "language_info": {
   "codemirror_mode": {
    "name": "ipython",
    "version": 3
   },
   "file_extension": ".py",
   "mimetype": "text/x-python",
   "name": "python",
   "nbconvert_exporter": "python",
   "pygments_lexer": "ipython3",
   "version": "3.13.3"
  }
 },
 "nbformat": 4,
 "nbformat_minor": 4
}
